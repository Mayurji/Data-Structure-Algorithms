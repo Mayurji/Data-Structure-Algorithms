{
 "cells": [
  {
   "cell_type": "markdown",
   "metadata": {},
   "source": [
    "### Find the Sum of N numbers"
   ]
  },
  {
   "cell_type": "code",
   "execution_count": 1,
   "metadata": {},
   "outputs": [
    {
     "name": "stdout",
     "output_type": "stream",
     "text": [
      "500500\n",
      "CPU times: user 269 µs, sys: 54 µs, total: 323 µs\n",
      "Wall time: 326 µs\n"
     ]
    }
   ],
   "source": [
    "%%time\n",
    "N = 1000\n",
    "val = 0\n",
    "for i in range(1, N+1):\n",
    "    val += i\n",
    "print(val)"
   ]
  },
  {
   "cell_type": "code",
   "execution_count": 2,
   "metadata": {},
   "outputs": [
    {
     "name": "stdout",
     "output_type": "stream",
     "text": [
      "500500.0\n",
      "CPU times: user 74 µs, sys: 17 µs, total: 91 µs\n",
      "Wall time: 79.6 µs\n"
     ]
    }
   ],
   "source": [
    "%%time\n",
    "val = (N * (N + 1))/2\n",
    "print(val)"
   ]
  },
  {
   "cell_type": "markdown",
   "metadata": {},
   "source": [
    "### Stack"
   ]
  },
  {
   "cell_type": "code",
   "execution_count": 36,
   "metadata": {},
   "outputs": [],
   "source": [
    "class stack:\n",
    "    def __init__(self):\n",
    "        self.stack = []\n",
    "\n",
    "    def push(self, element):\n",
    "        return self.stack.append(element)\n",
    "    \n",
    "    def pop(self):\n",
    "        return self.stack.pop()\n",
    "    \n",
    "    def isEmpty(self):\n",
    "        return len(self.stack) == 0\n",
    "    \n",
    "    def peek(self):\n",
    "        if len(self.stack) != 0:\n",
    "            return self.stack[-1]\n",
    "        else:\n",
    "            return \"Stack is Empty\""
   ]
  },
  {
   "cell_type": "code",
   "execution_count": 37,
   "metadata": {},
   "outputs": [],
   "source": [
    "create_stack = stack()"
   ]
  },
  {
   "cell_type": "code",
   "execution_count": 38,
   "metadata": {},
   "outputs": [],
   "source": [
    "create_stack.push(5)\n",
    "create_stack.push(2)\n",
    "create_stack.push(3)\n",
    "create_stack.push(4)"
   ]
  },
  {
   "cell_type": "code",
   "execution_count": 39,
   "metadata": {},
   "outputs": [
    {
     "data": {
      "text/plain": [
       "[5, 2, 3, 4]"
      ]
     },
     "execution_count": 39,
     "metadata": {},
     "output_type": "execute_result"
    }
   ],
   "source": [
    "create_stack.stack"
   ]
  },
  {
   "cell_type": "code",
   "execution_count": 40,
   "metadata": {},
   "outputs": [
    {
     "data": {
      "text/plain": [
       "4"
      ]
     },
     "execution_count": 40,
     "metadata": {},
     "output_type": "execute_result"
    }
   ],
   "source": [
    "create_stack.pop()"
   ]
  },
  {
   "cell_type": "code",
   "execution_count": 41,
   "metadata": {},
   "outputs": [
    {
     "data": {
      "text/plain": [
       "3"
      ]
     },
     "execution_count": 41,
     "metadata": {},
     "output_type": "execute_result"
    }
   ],
   "source": [
    "create_stack.peek()"
   ]
  },
  {
   "cell_type": "code",
   "execution_count": 42,
   "metadata": {},
   "outputs": [
    {
     "data": {
      "text/plain": [
       "True"
      ]
     },
     "execution_count": 42,
     "metadata": {},
     "output_type": "execute_result"
    }
   ],
   "source": [
    "create_stack.pop()\n",
    "create_stack.pop()\n",
    "create_stack.pop()\n",
    "create_stack.isEmpty()"
   ]
  },
  {
   "cell_type": "code",
   "execution_count": 43,
   "metadata": {},
   "outputs": [
    {
     "data": {
      "text/plain": [
       "'Stack is Empty'"
      ]
     },
     "execution_count": 43,
     "metadata": {},
     "output_type": "execute_result"
    }
   ],
   "source": [
    "create_stack.peek()"
   ]
  },
  {
   "cell_type": "markdown",
   "metadata": {},
   "source": [
    "### Queue"
   ]
  },
  {
   "cell_type": "code",
   "execution_count": 59,
   "metadata": {},
   "outputs": [],
   "source": [
    "class Queue:\n",
    "    def __init__(self):\n",
    "        self.queue = []\n",
    "\n",
    "    def enqueue(self, element):\n",
    "        return self.queue.append(element)\n",
    "    \n",
    "    def dequeue(self):\n",
    "        return self.queue.pop(0)\n",
    "    \n",
    "    def isEmpty(self):\n",
    "        return len(self.queue) == 0\n",
    "    \n",
    "    def peek(self):\n",
    "        if len(self.queue) != 0:\n",
    "            return self.queue[0]\n",
    "        else:\n",
    "            return \"Queue is Empty\""
   ]
  },
  {
   "cell_type": "code",
   "execution_count": 60,
   "metadata": {},
   "outputs": [],
   "source": [
    "create_queue = Queue()"
   ]
  },
  {
   "cell_type": "code",
   "execution_count": 61,
   "metadata": {},
   "outputs": [
    {
     "data": {
      "text/plain": [
       "[]"
      ]
     },
     "execution_count": 61,
     "metadata": {},
     "output_type": "execute_result"
    }
   ],
   "source": [
    "create_queue.queue"
   ]
  },
  {
   "cell_type": "code",
   "execution_count": 62,
   "metadata": {},
   "outputs": [],
   "source": [
    "create_queue.enqueue(1)\n",
    "create_queue.enqueue(2)\n",
    "create_queue.enqueue(3)"
   ]
  },
  {
   "cell_type": "code",
   "execution_count": 63,
   "metadata": {},
   "outputs": [
    {
     "data": {
      "text/plain": [
       "[1, 2, 3]"
      ]
     },
     "execution_count": 63,
     "metadata": {},
     "output_type": "execute_result"
    }
   ],
   "source": [
    "create_queue.queue"
   ]
  },
  {
   "cell_type": "code",
   "execution_count": 64,
   "metadata": {},
   "outputs": [
    {
     "data": {
      "text/plain": [
       "1"
      ]
     },
     "execution_count": 64,
     "metadata": {},
     "output_type": "execute_result"
    }
   ],
   "source": [
    "create_queue.dequeue()"
   ]
  },
  {
   "cell_type": "code",
   "execution_count": 65,
   "metadata": {},
   "outputs": [
    {
     "data": {
      "text/plain": [
       "[2, 3]"
      ]
     },
     "execution_count": 65,
     "metadata": {},
     "output_type": "execute_result"
    }
   ],
   "source": [
    "create_queue.queue"
   ]
  },
  {
   "cell_type": "code",
   "execution_count": 67,
   "metadata": {},
   "outputs": [
    {
     "data": {
      "text/plain": [
       "2"
      ]
     },
     "execution_count": 67,
     "metadata": {},
     "output_type": "execute_result"
    }
   ],
   "source": [
    "create_queue.peek()"
   ]
  },
  {
   "cell_type": "code",
   "execution_count": 68,
   "metadata": {},
   "outputs": [
    {
     "data": {
      "text/plain": [
       "True"
      ]
     },
     "execution_count": 68,
     "metadata": {},
     "output_type": "execute_result"
    }
   ],
   "source": [
    "create_queue.dequeue()\n",
    "create_queue.dequeue()\n",
    "create_queue.isEmpty()"
   ]
  },
  {
   "cell_type": "code",
   "execution_count": 69,
   "metadata": {},
   "outputs": [
    {
     "data": {
      "text/plain": [
       "'Queue is Empty'"
      ]
     },
     "execution_count": 69,
     "metadata": {},
     "output_type": "execute_result"
    }
   ],
   "source": [
    "create_queue.peek()"
   ]
  },
  {
   "cell_type": "markdown",
   "metadata": {},
   "source": [
    "### Queue Implementation using Array"
   ]
  },
  {
   "cell_type": "code",
   "execution_count": 8,
   "metadata": {
    "collapsed": true
   },
   "outputs": [
    {
     "name": "stdout",
     "output_type": "stream",
     "text": [
      "0\n",
      "[10, 0, 0, 0, 0, 0, 0, 0, 0, 0, 0, 0, 0, 0, 0, 0, 0, 0, 0, 0, 0, 0, 0, 0, 0, 0, 0, 0, 0, 0]\n",
      "1\n",
      "[10, 20, 0, 0, 0, 0, 0, 0, 0, 0, 0, 0, 0, 0, 0, 0, 0, 0, 0, 0, 0, 0, 0, 0, 0, 0, 0, 0, 0, 0]\n",
      "2\n",
      "[10, 20, 30, 0, 0, 0, 0, 0, 0, 0, 0, 0, 0, 0, 0, 0, 0, 0, 0, 0, 0, 0, 0, 0, 0, 0, 0, 0, 0, 0]\n",
      "3\n",
      "[10, 20, 30, 40, 0, 0, 0, 0, 0, 0, 0, 0, 0, 0, 0, 0, 0, 0, 0, 0, 0, 0, 0, 0, 0, 0, 0, 0, 0, 0]\n",
      "1\n",
      "[10, 20, 30, 40, 0, 0, 0, 0, 0, 0, 0, 0, 0, 0, 0, 0, 0, 0, 0, 0, 0, 0, 0, 0, 0, 0, 0, 0, 0, 0]\n"
     ]
    }
   ],
   "source": [
    "class QUEUE:\n",
    "    def __init__(self, capacity):\n",
    "        self.size = self.front = 0\n",
    "        self.capacity = capacity\n",
    "        self.rear = capacity - 1\n",
    "        self.queue = [0] * capacity\n",
    "        \n",
    "    def isEmpty(self):\n",
    "        if self.size == 0:\n",
    "            return \"Empty\"\n",
    "    \n",
    "    def isFull(self):\n",
    "        if self.size == capacity:\n",
    "            return \"Full\"\n",
    "    \n",
    "    def enqueue(self, element):\n",
    "        self.rear = (self.rear + 1) % self.capacity\n",
    "        self.queue[self.rear] = element\n",
    "        self.size = self.size + 1\n",
    "        print(self.rear)\n",
    "        return self.queue\n",
    "        \n",
    "    def dequeue(self):\n",
    "        self.front = (self.front + 1) % (self.capacity)\n",
    "        print(self.front)\n",
    "        self.size = self.size - 1\n",
    "        return self.queue\n",
    "\n",
    "if __name__ == '__main__': \n",
    "  \n",
    "    queue = QUEUE(30) \n",
    "    print(queue.enqueue(10))\n",
    "    print(queue.enqueue(20))\n",
    "    print(queue.enqueue(30))\n",
    "    print(queue.enqueue(40))\n",
    "    print(queue.dequeue())"
   ]
  },
  {
   "cell_type": "markdown",
   "metadata": {},
   "source": [
    "### Heap"
   ]
  },
  {
   "cell_type": "code",
   "execution_count": 86,
   "metadata": {
    "collapsed": true
   },
   "outputs": [
    {
     "name": "stdout",
     "output_type": "stream",
     "text": [
      "[3, 8, 7]\n",
      "[3, 8, 7]\n",
      "[3, 8, 7, 1]\n",
      "[3, 1, 7, 8, 9]\n",
      "[3, 1, 7, 8, 9]\n",
      "[1, 3, 7, 8, 9]\n",
      "[1, 3, 7, 8, 9]\n",
      "[1, 3, 7, 8, 9, 2]\n",
      "[1, 3, 7, 8, 9, 2]\n",
      "[1, 3, 2, 8, 9, 7, 5]\n",
      "[1, 3, 2, 8, 9, 7, 5]\n",
      "[1, 3, 2, 8, 9, 7, 5]\n",
      "[1, 3, 2, 8, 9, 7, 5]\n",
      "[1, 3, 2, 8, 9, 7, 5, 4]\n",
      "[1, 3, 2, 8, 9, 7, 5, 4]\n",
      "[1, 3, 2, 8, 9, 7, 5, 4]\n",
      "Min-Heap array: [1, 3, 2, 8, 9, 7, 5, 4]\n",
      "[1, 3, 2, 8, 4, 7, 5]\n",
      "[1, 3, 2, 8, 4, 7, 5]\n",
      "[1, 3, 2, 8, 4, 7, 5]\n",
      "Min-Heap array: [1, 3, 2, 8, 4, 7, 5]\n"
     ]
    }
   ],
   "source": [
    "# MIN HEAP\n",
    "\n",
    "def heapify(array, n , i):\n",
    "    smallest_index = i\n",
    "    left_child_index = 2 * i + 1\n",
    "    right_child_index = 2 * i + 2\n",
    "\n",
    "    if left_child_index <= n and array[i] > array[left_child_index]:\n",
    "        smallest_index = left_child_index\n",
    "\n",
    "    if right_child_index <= n and array[smallest_index] > array[right_child_index]:\n",
    "        smallest_index = right_child_index\n",
    "\n",
    "    if smallest_index != i:\n",
    "        array[i],array[smallest_index] = array[smallest_index],array[i]\n",
    "        heapify(array, n, smallest_index)\n",
    "        \n",
    "    print(array)\n",
    "\n",
    "def insert(array, element):\n",
    "        size = len(array)\n",
    "        if size == 0:\n",
    "            array.append(element)\n",
    "        else:\n",
    "            array.append(element)\n",
    "            for i in range((size//2)-1, -1, -1):\n",
    "                heapify(array, size, i)\n",
    "                \n",
    "def deletion(array, element):\n",
    "    size = len(array)\n",
    "    i = 0\n",
    "    for i in range(0, size):\n",
    "        if element == array[i]:\n",
    "            break\n",
    "\n",
    "    array[i], array[size-1] = array[size-1], array[i]\n",
    "    array.remove(element)\n",
    "\n",
    "    for i in range((len(array)//2)-1, -1, -1):\n",
    "        heapify(array, len(array), i)\n",
    "        \n",
    "array = []\n",
    "\n",
    "insert(array, 7)\n",
    "insert(array, 8)\n",
    "insert(array, 3)\n",
    "insert(array, 1)\n",
    "insert(array, 9)\n",
    "insert(array, 2)\n",
    "insert(array, 5)\n",
    "insert(array, 4)\n",
    "\n",
    "print (\"Min-Heap array: \" + str(array))\n",
    "\n",
    "deletion(array, 9)\n",
    "print (\"Min-Heap array: \" + str(array))"
   ]
  },
  {
   "cell_type": "code",
   "execution_count": 89,
   "metadata": {},
   "outputs": [
    {
     "name": "stdout",
     "output_type": "stream",
     "text": [
      "Max-Heap array: [12, 10, 9, 8, 2, 3, 6, 5, 4]\n"
     ]
    }
   ],
   "source": [
    "# Max-Heap data structure in Python\n",
    "\n",
    "def heapify(arr, n, i):\n",
    "    largest = i\n",
    "    l = 2 * i + 1\n",
    "    r = 2 * i + 2 \n",
    "    \n",
    "    if l <= n and arr[i] < arr[l]:\n",
    "        largest = l\n",
    "    \n",
    "    if r <= n and arr[largest] < arr[r]:\n",
    "        largest = r\n",
    "    \n",
    "    if largest != i:\n",
    "        arr[i],arr[largest] = arr[largest],arr[i]\n",
    "        heapify(arr, n, largest)\n",
    "\n",
    "def insert(array, newNum):\n",
    "    size = len(array)\n",
    "    if size == 0:\n",
    "        array.append(newNum)\n",
    "    else:\n",
    "        array.append(newNum);\n",
    "        for i in range((size//2)-1, -1, -1):\n",
    "            heapify(array, size, i)\n",
    "\n",
    "def deleteNode(array, num):\n",
    "    size = len(array)\n",
    "    i = 0\n",
    "    for i in range(0, size):\n",
    "        if num == array[i]:\n",
    "            break\n",
    "        \n",
    "    array[i], array[size-1] = array[size-1], array[i]\n",
    "\n",
    "    array.remove(num)\n",
    "    \n",
    "    for i in range((len(array)//2)-1, -1, -1):\n",
    "        heapify(array, len(array), i)\n",
    "    \n",
    "arr = []\n",
    "\n",
    "insert(arr, 3)\n",
    "insert(arr, 4)\n",
    "insert(arr, 9)\n",
    "insert(arr, 5)\n",
    "insert(arr, 2)\n",
    "insert(arr, 10)\n",
    "insert(arr, 6)\n",
    "insert(arr, 8)\n",
    "insert(arr, 12)\n",
    "print (\"Max-Heap array: \" + str(arr))"
   ]
  },
  {
   "cell_type": "markdown",
   "metadata": {},
   "source": [
    "### Deque"
   ]
  },
  {
   "cell_type": "code",
   "execution_count": 21,
   "metadata": {},
   "outputs": [],
   "source": [
    "# Deque implementaion in python\n",
    "\n",
    "class Deque:\n",
    "    def __init__(self):\n",
    "        self.items = []\n",
    "\n",
    "    def isEmpty(self):\n",
    "        return self.items == []\n",
    "\n",
    "    def addRear(self, item):\n",
    "        self.items.append(item)\n",
    "\n",
    "    def addFront(self, item):\n",
    "        self.items.insert(0, item)\n",
    "\n",
    "    def removeFront(self):\n",
    "        return self.items.pop()\n",
    "\n",
    "    def removeRear(self):\n",
    "        return self.items.pop(0)\n",
    "\n",
    "    def size(self):\n",
    "        return len(self.items)\n",
    "\n",
    "\n",
    "d = Deque()"
   ]
  },
  {
   "cell_type": "code",
   "execution_count": 22,
   "metadata": {},
   "outputs": [],
   "source": [
    "d.addFront(10)\n",
    "d.addFront(20)\n",
    "d.addFront(30)"
   ]
  },
  {
   "cell_type": "code",
   "execution_count": 23,
   "metadata": {},
   "outputs": [
    {
     "data": {
      "text/plain": [
       "[30, 20, 10]"
      ]
     },
     "execution_count": 23,
     "metadata": {},
     "output_type": "execute_result"
    }
   ],
   "source": [
    "d.items"
   ]
  },
  {
   "cell_type": "code",
   "execution_count": 24,
   "metadata": {},
   "outputs": [
    {
     "data": {
      "text/plain": [
       "30"
      ]
     },
     "execution_count": 24,
     "metadata": {},
     "output_type": "execute_result"
    }
   ],
   "source": [
    "d.removeRear()"
   ]
  },
  {
   "cell_type": "code",
   "execution_count": 25,
   "metadata": {},
   "outputs": [
    {
     "data": {
      "text/plain": [
       "[20, 10, 56]"
      ]
     },
     "execution_count": 25,
     "metadata": {},
     "output_type": "execute_result"
    }
   ],
   "source": [
    "d.addRear(56)\n",
    "d.items"
   ]
  },
  {
   "cell_type": "markdown",
   "metadata": {},
   "source": [
    "### Linked List"
   ]
  },
  {
   "cell_type": "code",
   "execution_count": 19,
   "metadata": {},
   "outputs": [],
   "source": [
    "class node:\n",
    "    def __init__(self, item):\n",
    "        self.data = item\n",
    "        self.next = None"
   ]
  },
  {
   "cell_type": "code",
   "execution_count": 20,
   "metadata": {},
   "outputs": [],
   "source": [
    "class LinkedList:\n",
    "    def __init__(self):\n",
    "        self.head = None\n",
    "        \n",
    "        \n",
    "LL = LinkedList()\n",
    "LL.head = node(1)\n",
    "second_node = node(2)\n",
    "third_node = node(3)\n",
    "\n",
    "LL.head.next = second_node\n",
    "second_node.next = third_node"
   ]
  },
  {
   "cell_type": "code",
   "execution_count": 21,
   "metadata": {},
   "outputs": [],
   "source": [
    "between_node = node(2.5)\n",
    "between_node.next = third_node\n",
    "second_node.next = between_node"
   ]
  },
  {
   "cell_type": "code",
   "execution_count": 22,
   "metadata": {},
   "outputs": [
    {
     "name": "stdout",
     "output_type": "stream",
     "text": [
      "1 2 2.5 3 "
     ]
    }
   ],
   "source": [
    "while LL.head != None:\n",
    "    print(LL.head.data, end=\" \")\n",
    "    LL.head = LL.head.next"
   ]
  },
  {
   "cell_type": "markdown",
   "metadata": {},
   "source": [
    "### Types of Linked List"
   ]
  },
  {
   "cell_type": "code",
   "execution_count": 61,
   "metadata": {},
   "outputs": [],
   "source": [
    "# Doubly Linked List\n",
    "\n",
    "class node:\n",
    "    def __init__(self, item):\n",
    "        self.data = item\n",
    "        self.next = None\n",
    "        self.prev = None\n",
    "\n",
    "class DoublyLL:\n",
    "    def __init__(self):\n",
    "        self.head = None\n",
    "        \n",
    "    def push(self, element):\n",
    "        new_node = node(element) # Creating a node with data, prev and next\n",
    "        new_node.next = self.head\n",
    "        \n",
    "        if self.head is not None: # Checking if current head point to null or not\n",
    "            self.head.prev = new_node # if not null, then current node's prev will point to new node.\n",
    "            \n",
    "        self.head = new_node # New node is assigned as head node\n",
    "        \n",
    "    \n",
    "    def insertAfter(self, prev_node, element):\n",
    "        new_node = node(element) # Creating a node with data, prev and next\n",
    "        \n",
    "        if prev_node is None:\n",
    "            return \"previous node cannot be NULL\"\n",
    "        \n",
    "        new_node.next = prev_node.next\n",
    "        prev_node.next = new_node\n",
    "        new_node.prev = prev_node\n",
    "        \n",
    "        if new_node.next is not None:\n",
    "            new_node.next.prev = new_node\n",
    "            \n",
    "    def append(self, element):\n",
    "        new_node = node(element)\n",
    "        \n",
    "        new_node.next = None\n",
    "        \n",
    "        if self.head is None:\n",
    "            new_node.prev = None\n",
    "            self.head = new_node\n",
    "            return\n",
    "        \n",
    "        last_node = self.head\n",
    "        while last_node.next != None:\n",
    "            last_node = last_node.next\n",
    "            \n",
    "        last_node.next = new_node\n",
    "        new_node.prev = last_node\n",
    "        \n",
    "        return\n",
    "    \n",
    "    def printList(self, node):\n",
    " \n",
    "        print(\"\\nTraversal in forward direction\")\n",
    "        while(node is not None):\n",
    "            print(node.data)\n",
    "            last = node\n",
    "            node = node.next\n",
    " \n",
    "        print(\"\\nTraversal in reverse direction\")\n",
    "        while(last is not None):\n",
    "            print(last.data)\n",
    "            last = last.prev"
   ]
  },
  {
   "cell_type": "code",
   "execution_count": 62,
   "metadata": {
    "collapsed": true
   },
   "outputs": [
    {
     "name": "stdout",
     "output_type": "stream",
     "text": [
      "\n",
      "Traversal in forward direction\n",
      "1\n",
      "7\n",
      "8\n",
      "4\n",
      "\n",
      "Traversal in reverse direction\n",
      "4\n",
      "8\n",
      "7\n",
      "1\n"
     ]
    }
   ],
   "source": [
    "llist = DoublyLL()\n",
    " \n",
    "llist.push(7)\n",
    " \n",
    "llist.push(1)\n",
    " \n",
    "llist.append(4)\n",
    " \n",
    "llist.insertAfter(llist.head.next, 8)\n",
    " \n",
    "llist.printList(llist.head)"
   ]
  },
  {
   "cell_type": "markdown",
   "metadata": {},
   "source": [
    "### Circular Linked List"
   ]
  },
  {
   "cell_type": "code",
   "execution_count": 48,
   "metadata": {},
   "outputs": [],
   "source": [
    "class Node:\n",
    "    def __init__(self, item):\n",
    "        self.data = item\n",
    "        self.next = None\n",
    "        \n",
    "class CircularLL:\n",
    "    def __init__(self):\n",
    "        self.head = None\n",
    "        \n",
    "    def push(self, element):\n",
    "        ptr1 = Node(element)\n",
    "        temp = self.head\n",
    "         \n",
    "        ptr1.next = self.head\n",
    " \n",
    "        # If linked list is not None then set the next of\n",
    "        # last node\n",
    "        if self.head is not None:\n",
    "            while(temp.next != self.head):\n",
    "                temp = temp.next\n",
    "            temp.next = ptr1\n",
    " \n",
    "        else:\n",
    "            ptr1.next = ptr1 # For the first node\n",
    " \n",
    "        self.head = ptr1\n",
    "\n",
    "    def append(self, element):\n",
    "        new_node = Node(element)\n",
    "        \n",
    "        if self.head is None:\n",
    "            self.head = new_node\n",
    "            return\n",
    "        else:\n",
    "            last_node = self.head\n",
    "            while last_node.next != self.head:\n",
    "                last_node = last_node.next\n",
    "                \n",
    "        last_node.next = new_node\n",
    "        new_node.next = self.head\n",
    "        return\n",
    "    \n",
    "    def view(self):\n",
    "        temp = self.head\n",
    "        if self.head is not None:\n",
    "            while(True):\n",
    "                print(temp.data)\n",
    "                temp = temp.next\n",
    "                if (temp == self.head):\n",
    "                    break"
   ]
  },
  {
   "cell_type": "code",
   "execution_count": 49,
   "metadata": {},
   "outputs": [
    {
     "name": "stdout",
     "output_type": "stream",
     "text": [
      "5\n",
      "9\n",
      "6\n",
      "23\n"
     ]
    }
   ],
   "source": [
    "cll = CircularLL()\n",
    "cll.push(6)\n",
    "cll.push(9)\n",
    "cll.push(5)\n",
    "cll.append(23)\n",
    "cll.view()"
   ]
  },
  {
   "cell_type": "code",
   "execution_count": 1,
   "metadata": {},
   "outputs": [
    {
     "name": "stdout",
     "output_type": "stream",
     "text": [
      "[[], [], [123, 'apple'], [432, 'mango'], [213, 'banana'], [654, 'guava'], [], [], [], []]\n",
      "[[], [], 0, [432, 'mango'], [213, 'banana'], [654, 'guava'], [], [], [], []]\n"
     ]
    }
   ],
   "source": [
    "# Python program to demonstrate working of HashTable \n",
    "\n",
    "hashTable = [[],] * 10\n",
    "\n",
    "def checkPrime(n):\n",
    "    if n == 1 or n == 0:\n",
    "        return 0\n",
    "\n",
    "    for i in range(2, n//2):\n",
    "        if n % i == 0:\n",
    "            return 0\n",
    "\n",
    "    return 1\n",
    "\n",
    "\n",
    "def getPrime(n):\n",
    "    if n % 2 == 0:\n",
    "        n = n + 1\n",
    "\n",
    "    while not checkPrime(n):\n",
    "        n += 2\n",
    "\n",
    "    return n\n",
    "\n",
    "\n",
    "def hashFunction(key):\n",
    "    capacity = getPrime(10)\n",
    "    return key % capacity\n",
    "\n",
    "\n",
    "def insertData(key, data):\n",
    "    index = hashFunction(key)\n",
    "    hashTable[index] = [key, data]\n",
    "\n",
    "def removeData(key):\n",
    "    index = hashFunction(key)\n",
    "    hashTable[index] = 0\n",
    "\n",
    "insertData(123, \"apple\")\n",
    "insertData(432, \"mango\")\n",
    "insertData(213, \"banana\")\n",
    "insertData(654, \"guava\")\n",
    "\n",
    "print(hashTable)\n",
    "\n",
    "removeData(123)\n",
    "\n",
    "print(hashTable)"
   ]
  },
  {
   "cell_type": "markdown",
   "metadata": {},
   "source": [
    "### Fibonacci Heap"
   ]
  },
  {
   "cell_type": "code",
   "execution_count": 28,
   "metadata": {},
   "outputs": [],
   "source": [
    "import math\n",
    "\n",
    "class FibonacciTree:\n",
    "    def __init__(self, value):\n",
    "        self.value = value\n",
    "        self.child = []\n",
    "        self.order = 0\n",
    "        \n",
    "    def add_at_end(self, t):\n",
    "        self.child.append(t)\n",
    "        self.order = self.order + 1\n",
    "        \n",
    "class FibonacciHeap:\n",
    "    def __init__(self):\n",
    "        self.trees = []\n",
    "        self.least = None # min value of the Fibonacci Heap\n",
    "        self.count = 0\n",
    "    \n",
    "    def insert_node(self, value):\n",
    "        new_tree = FibonacciTree(value) # Initalize new tree\n",
    "        self.trees.append(new_tree) # Add the tree to Fibonacci Heap\n",
    "        # Check if value inserted is least or not\n",
    "        if (self.least is None) or (value < self.least.value):\n",
    "            self.least = new_tree\n",
    "            \n",
    "        self.count = self.count + 1\n",
    "        \n",
    "    def get_min(self):\n",
    "        if self.least is None:\n",
    "            return None\n",
    "        return self.least.value\n",
    "    \n",
    "    def extract_min(self):\n",
    "        smallest = self.least # assign the min of fibonacci heap\n",
    "        if smallest is not None:\n",
    "            for child in smallest.child: # Iterate over all the child of min and add it as root or separate tree.\n",
    "                print(\"child of root\",child)\n",
    "                self.trees.append(child)\n",
    "            self.trees.remove(smallest) # remove the min value.\n",
    "            \n",
    "            if self.trees == []:\n",
    "                self.least = None\n",
    "            else:\n",
    "                self.least = self.trees[0]\n",
    "                self.consolidate()\n",
    "            self.count = self.count - 1\n",
    "            return smallest.value\n",
    "    \n",
    "    def consolidate(self):\n",
    "        print(\"Consolidate, Count:\", self.count)\n",
    "        aux = (floor_log(self.count) + 1) * [None]\n",
    "        print(\"aux\", aux)\n",
    "        \n",
    "        while self.trees != []:\n",
    "            x = self.trees[0]\n",
    "            print(x.value)\n",
    "            order = x.order\n",
    "            print(order)\n",
    "            self.trees.remove(x)\n",
    "            print(\"Aux order\", aux[order])\n",
    "            while aux[order] is not None:\n",
    "                y = aux[order]\n",
    "                print(x.value, y.value)\n",
    "                if x.value > y.value:\n",
    "                    x, y = y, x\n",
    "                x.add_at_end(y)\n",
    "                aux[order] = None\n",
    "                order = order + 1\n",
    "            aux[order] = x\n",
    "        \n",
    "        self.least = None\n",
    "        for k in aux:\n",
    "            if k is not None:\n",
    "                self.trees.append(k)\n",
    "                if (self.least is None) or (k.value < self.least.value):\n",
    "                    self.least = k\n",
    "    \n",
    "def floor_log(x):\n",
    "    return math.frexp(x)[1] -1 \n"
   ]
  },
  {
   "cell_type": "code",
   "execution_count": 29,
   "metadata": {},
   "outputs": [
    {
     "name": "stdout",
     "output_type": "stream",
     "text": [
      "the minimum value of the fibonacci heap: 3\n",
      "Consolidate, Count: 4\n",
      "aux [None, None, None]\n",
      "7\n",
      "0\n",
      "Aux order None\n",
      "17\n",
      "0\n",
      "Aux order <__main__.FibonacciTree object at 0x7f4f0c9ef5d0>\n",
      "17 7\n",
      "24\n",
      "0\n",
      "Aux order None\n",
      "the minimum value removed: 3\n"
     ]
    }
   ],
   "source": [
    "fibonacci_heap = FibonacciHeap()\n",
    "\n",
    "fibonacci_heap.insert_node(7)\n",
    "fibonacci_heap.insert_node(3)\n",
    "fibonacci_heap.insert_node(17)\n",
    "fibonacci_heap.insert_node(24)\n",
    "\n",
    "print('the minimum value of the fibonacci heap: {}'.format(fibonacci_heap.get_min()))\n",
    "\n",
    "print('the minimum value removed: {}'.format(fibonacci_heap.extract_min()))\n"
   ]
  },
  {
   "cell_type": "markdown",
   "metadata": {},
   "source": [
    "### Tree Traversal"
   ]
  },
  {
   "cell_type": "code",
   "execution_count": 15,
   "metadata": {},
   "outputs": [
    {
     "name": "stdout",
     "output_type": "stream",
     "text": [
      "Inorder traversal \n",
      "4->2->5->1->3->\n",
      "Preorder traversal \n",
      "1->2->4->5->3->\n",
      "Postorder traversal \n",
      "4->5->2->3->1->"
     ]
    }
   ],
   "source": [
    "class Node:\n",
    "    def __init__(self, item):\n",
    "        self.item = item\n",
    "        self.left = None\n",
    "        self.right = None\n",
    "        \n",
    "def inorder(root):\n",
    "\n",
    "    if root:\n",
    "        # Traverse left\n",
    "        inorder(root.left)\n",
    "        # Traverse root\n",
    "        print(str(root.item) + \"->\", end='')\n",
    "        # Traverse right\n",
    "        inorder(root.right)\n",
    "    \n",
    "\n",
    "def postorder(root):\n",
    "\n",
    "    if root:\n",
    "        # Traverse left\n",
    "        postorder(root.left)\n",
    "        # Traverse right\n",
    "        postorder(root.right)\n",
    "        # Traverse root\n",
    "        print(str(root.item) + \"->\", end='')\n",
    "\n",
    "\n",
    "def preorder(root):\n",
    "\n",
    "    if root:\n",
    "        # Traverse root\n",
    "        print(str(root.item) + \"->\", end='')\n",
    "        # Traverse left\n",
    "        preorder(root.left)\n",
    "        # Traverse right\n",
    "        preorder(root.right)\n",
    "    \n",
    "\n",
    "\n",
    "root = Node(1)\n",
    "root.left = Node(2)\n",
    "root.right = Node(3)\n",
    "root.left.left = Node(4)\n",
    "root.left.right = Node(5)\n",
    "\n",
    "print(\"Inorder traversal \")\n",
    "inorder(root)\n",
    "\n",
    "print(\"\\nPreorder traversal \")\n",
    "preorder(root)\n",
    "\n",
    "print(\"\\nPostorder traversal \")\n",
    "postorder(root)"
   ]
  },
  {
   "cell_type": "markdown",
   "metadata": {},
   "source": [
    "### Binary Tree - Full BT"
   ]
  },
  {
   "cell_type": "code",
   "execution_count": 7,
   "metadata": {},
   "outputs": [],
   "source": [
    "class Node:\n",
    "    def __init__(self, item):\n",
    "        self.item = item\n",
    "        self.left = None\n",
    "        self.right = None\n",
    "        \n",
    "def fullBinaryTree(root):\n",
    "    if root is None:\n",
    "        return True\n",
    "    \n",
    "    if (root.left is None) and (root.right is None):\n",
    "        return True\n",
    "    \n",
    "    if (root.left is not None) and (root.right is not None):\n",
    "        return (fullBinaryTree(root.left) and fullBinaryTree(root.right))\n",
    "    \n",
    "    return False\n",
    "    \n",
    "fullBT = Node(1)\n",
    "fullBT.left = Node(5)\n",
    "fullBT.right = Node(3)\n",
    "fullBT.left.left = Node(9)\n",
    "fullBT.left.right = Node(78)\n",
    "#fullBT.right.left = Node(90)"
   ]
  },
  {
   "cell_type": "code",
   "execution_count": 8,
   "metadata": {},
   "outputs": [
    {
     "name": "stdout",
     "output_type": "stream",
     "text": [
      "The tree is a full binary tree\n"
     ]
    }
   ],
   "source": [
    "if fullBinaryTree(fullBT):\n",
    "    print(\"The tree is a full binary tree\")\n",
    "else:\n",
    "    print(\"The tree is not a full binary full\")"
   ]
  },
  {
   "cell_type": "markdown",
   "metadata": {},
   "source": [
    "### Binary Tree - Perfect Binary Tree"
   ]
  },
  {
   "cell_type": "code",
   "execution_count": 9,
   "metadata": {},
   "outputs": [],
   "source": [
    "### Every parent and internal node should have atmost two child nodes and level should remain same.\n",
    "\n",
    "def perfectBinaryTree(root, d, level=0):\n",
    "    \n",
    "    if root is None:\n",
    "        return True\n",
    "    \n",
    "    if (root.left is None and root.right is None):\n",
    "        return (d == level + 1)\n",
    "    \n",
    "    if (root.left is None or root.right is None):\n",
    "        return False\n",
    "    \n",
    "    return (perfectBinaryTree(root.left, d, level+1) and perfectBinaryTree(root.right, d, level + 1))\n",
    "\n",
    "def calculateDepth(node):\n",
    "    d=0\n",
    "    while (node is not None):\n",
    "        d += 1\n",
    "        node = node.left\n",
    "    return d"
   ]
  },
  {
   "cell_type": "code",
   "execution_count": 13,
   "metadata": {},
   "outputs": [],
   "source": [
    "root = Node(1)\n",
    "root.left = Node(2)\n",
    "root.right = Node(3)\n",
    "root.left.left = Node(4)\n",
    "root.left.right = Node(5)\n",
    "root.right.left = Node(8)\n",
    "root.right.right = Node(9)"
   ]
  },
  {
   "cell_type": "code",
   "execution_count": 14,
   "metadata": {},
   "outputs": [
    {
     "name": "stdout",
     "output_type": "stream",
     "text": [
      "Perfect Binary Tree\n"
     ]
    }
   ],
   "source": [
    "if perfectBinaryTree(root, calculateDepth(root)):\n",
    "    print(\"Perfect Binary Tree\")\n",
    "else:\n",
    "    print(\"Not a perfect Binary Tree\")"
   ]
  },
  {
   "cell_type": "markdown",
   "metadata": {},
   "source": [
    "### Binary tree - Complete BInary tree"
   ]
  },
  {
   "cell_type": "code",
   "execution_count": 18,
   "metadata": {},
   "outputs": [
    {
     "name": "stdout",
     "output_type": "stream",
     "text": [
      "The tree is a complete binary tree\n"
     ]
    }
   ],
   "source": [
    "class Node:\n",
    "\n",
    "    def __init__(self, item):\n",
    "        self.item = item\n",
    "        self.left = None\n",
    "        self.right = None\n",
    "\n",
    "\n",
    "# Count the number of nodes\n",
    "def count_nodes(root):\n",
    "    if root is None:\n",
    "        return 0\n",
    "    return (1 + count_nodes(root.left) + count_nodes(root.right))\n",
    "\n",
    "\n",
    "# Check if the tree is complete binary tree\n",
    "def is_complete(root, index, numberNodes):\n",
    "\n",
    "    # Check if the tree is empty\n",
    "    if root is None:\n",
    "        return True\n",
    "\n",
    "    if index >= numberNodes:\n",
    "        return False\n",
    "\n",
    "    return (is_complete(root.left, 2 * index + 1, numberNodes)\n",
    "            and is_complete(root.right, 2 * index + 2, numberNodes))\n",
    "\n",
    "\n",
    "root = Node(1)\n",
    "root.left = Node(2)\n",
    "root.right = Node(3)\n",
    "root.left.left = Node(4)\n",
    "root.left.right = Node(5)\n",
    "root.right.left = Node(6)\n",
    "\n",
    "node_count = count_nodes(root)\n",
    "index = 0\n",
    "\n",
    "if is_complete(root, index, node_count):\n",
    "    print(\"The tree is a complete binary tree\")\n",
    "else:\n",
    "    print(\"The tree is not a complete binary tree\")\n"
   ]
  },
  {
   "cell_type": "markdown",
   "metadata": {},
   "source": [
    "### Binary Tree - Balanced Binary Tree"
   ]
  },
  {
   "cell_type": "code",
   "execution_count": 16,
   "metadata": {},
   "outputs": [],
   "source": [
    "class node:\n",
    "    def __init__(self, item):\n",
    "        self.item = item\n",
    "        self.left = None\n",
    "        self.right = None\n",
    "    \n",
    "class height:\n",
    "    def __init__(self):\n",
    "        self.height = 0\n",
    "    \n",
    "def balancedBinaryTree(root, h):\n",
    "    \n",
    "    left_height = height()\n",
    "    right_height = height()\n",
    "    \n",
    "    if root is None:\n",
    "        return True\n",
    "    \n",
    "    print(\"left:\", left_height.height,\" right: \", right_height.height)\n",
    "    l = balancedBinaryTree(root.left, left_height)\n",
    "    r = balancedBinaryTree(root.right, right_height)\n",
    "    \n",
    "    h.height = max(left_height.height, right_height.height) + 1\n",
    "    print(\"height obj: \",h.height)\n",
    "    print(\"abs:\", left_height.height, right_height.height)\n",
    "    if abs(left_height.height - right_height.height) <= 1:\n",
    "        print(l, r )\n",
    "        return 1 and r\n",
    "    \n",
    "    return False"
   ]
  },
  {
   "cell_type": "code",
   "execution_count": 17,
   "metadata": {
    "collapsed": true
   },
   "outputs": [
    {
     "name": "stdout",
     "output_type": "stream",
     "text": [
      "left: 0  right:  0\n",
      "left: 0  right:  0\n",
      "left: 0  right:  0\n",
      "height obj:  1\n",
      "abs: 0 0\n",
      "True True\n",
      "left: 0  right:  0\n",
      "left: 0  right:  0\n",
      "height obj:  1\n",
      "abs: 0 0\n",
      "True True\n",
      "height obj:  2\n",
      "abs: 0 1\n",
      "True True\n",
      "height obj:  3\n",
      "abs: 1 2\n",
      "True True\n",
      "left: 0  right:  0\n",
      "height obj:  1\n",
      "abs: 0 0\n",
      "True True\n",
      "height obj:  4\n",
      "abs: 3 1\n",
      "The tree is not balanced\n"
     ]
    }
   ],
   "source": [
    "h = height()\n",
    "\n",
    "root = node(1)\n",
    "root.left = node(2)\n",
    "root.right = node(3)\n",
    "root.left.left = node(4)\n",
    "root.left.right = node(5)\n",
    "root.left.right.right = node(9)\n",
    "\n",
    "if balancedBinaryTree(root, h):\n",
    "    print('The tree is balanced')\n",
    "else:\n",
    "    print('The tree is not balanced')"
   ]
  },
  {
   "cell_type": "markdown",
   "metadata": {},
   "source": [
    "### Binary Tree - Binary Search Tree"
   ]
  },
  {
   "cell_type": "code",
   "execution_count": 19,
   "metadata": {},
   "outputs": [
    {
     "name": "stdout",
     "output_type": "stream",
     "text": [
      "Inorder traversal:  1-> 3-> 4-> 6-> 7-> 8-> 10-> 14-> \n",
      "Delete 10\n",
      "Inorder traversal:  1-> 3-> 4-> 6-> 7-> 8-> 14-> "
     ]
    }
   ],
   "source": [
    "# Binary Search Tree operations in Python\n",
    "\n",
    "\n",
    "# Create a node\n",
    "class Node:\n",
    "    def __init__(self, key):\n",
    "        self.key = key\n",
    "        self.left = None\n",
    "        self.right = None\n",
    "\n",
    "\n",
    "# Inorder traversal\n",
    "def inorder(root):\n",
    "    if root is not None:\n",
    "        # Traverse left\n",
    "        inorder(root.left)\n",
    "\n",
    "        # Traverse root\n",
    "        print(str(root.key) + \"->\", end=' ')\n",
    "\n",
    "        # Traverse right\n",
    "        inorder(root.right)\n",
    "\n",
    "\n",
    "# Insert a node\n",
    "def insert(node, key):\n",
    "\n",
    "    # Return a new node if the tree is empty\n",
    "    if node is None:\n",
    "        return Node(key)\n",
    "\n",
    "    # Traverse to the right place and insert the node\n",
    "    if key < node.key:\n",
    "        node.left = insert(node.left, key)\n",
    "    else:\n",
    "        node.right = insert(node.right, key)\n",
    "\n",
    "    return node\n",
    "\n",
    "\n",
    "# Find the inorder successor\n",
    "def minValueNode(node):\n",
    "    current = node\n",
    "\n",
    "    # Find the leftmost leaf\n",
    "    while(current.left is not None):\n",
    "        current = current.left\n",
    "\n",
    "    return current\n",
    "\n",
    "\n",
    "# Deleting a node\n",
    "def deleteNode(root, key):\n",
    "\n",
    "    # Return if the tree is empty\n",
    "    if root is None:\n",
    "        return root\n",
    "\n",
    "    # Find the node to be deleted\n",
    "    if key < root.key:\n",
    "        root.left = deleteNode(root.left, key)\n",
    "    elif(key > root.key):\n",
    "        root.right = deleteNode(root.right, key)\n",
    "    else:\n",
    "        # If the node is with only one child or no child\n",
    "        if root.left is None:\n",
    "            temp = root.right\n",
    "            root = None\n",
    "            return temp\n",
    "\n",
    "        elif root.right is None:\n",
    "            temp = root.left\n",
    "            root = None\n",
    "            return temp\n",
    "\n",
    "        # If the node has two children,\n",
    "        # place the inorder successor in position of the node to be deleted\n",
    "        temp = minValueNode(root.right)\n",
    "\n",
    "        root.key = temp.key\n",
    "\n",
    "        # Delete the inorder successor\n",
    "        root.right = deleteNode(root.right, temp.key)\n",
    "\n",
    "    return root\n",
    "\n",
    "\n",
    "root = None\n",
    "root = insert(root, 8)\n",
    "root = insert(root, 3)\n",
    "root = insert(root, 1)\n",
    "root = insert(root, 6)\n",
    "root = insert(root, 7)\n",
    "root = insert(root, 10)\n",
    "root = insert(root, 14)\n",
    "root = insert(root, 4)\n",
    "\n",
    "print(\"Inorder traversal: \", end=' ')\n",
    "inorder(root)\n",
    "\n",
    "print(\"\\nDelete 10\")\n",
    "root = deleteNode(root, 10)\n",
    "print(\"Inorder traversal: \", end=' ')\n",
    "inorder(root)"
   ]
  },
  {
   "cell_type": "markdown",
   "metadata": {},
   "source": [
    "### AVL Tree"
   ]
  },
  {
   "cell_type": "code",
   "execution_count": 8,
   "metadata": {},
   "outputs": [
    {
     "name": "stdout",
     "output_type": "stream",
     "text": [
      "R----33\n",
      "     L----13\n",
      "     |    L----9\n",
      "     |    |    L----8\n",
      "     |    |    R----11\n",
      "     |    R----21\n",
      "     R----52\n",
      "          R----61\n",
      "After Deletion: \n",
      "R----33\n",
      "     L----9\n",
      "     |    L----8\n",
      "     |    R----21\n",
      "     |         L----11\n",
      "     R----52\n",
      "          R----61\n"
     ]
    }
   ],
   "source": [
    "import sys\n",
    "\n",
    "# Create a tree node\n",
    "class TreeNode(object):\n",
    "    def __init__(self, key):\n",
    "        self.key = key\n",
    "        self.left = None\n",
    "        self.right = None\n",
    "        self.height = 1\n",
    "\n",
    "\n",
    "class AVLTree(object):\n",
    "\n",
    "    # Function to insert a node\n",
    "    def insert_node(self, root, key):\n",
    "\n",
    "        # Find the correct location and insert the node\n",
    "        if not root:\n",
    "            return TreeNode(key)\n",
    "        elif key < root.key:\n",
    "            root.left = self.insert_node(root.left, key)\n",
    "        else:\n",
    "            root.right = self.insert_node(root.right, key)\n",
    "\n",
    "        root.height = 1 + max(self.getHeight(root.left),\n",
    "                              self.getHeight(root.right))\n",
    "\n",
    "        # Update the balance factor and balance the tree\n",
    "        balanceFactor = self.getBalance(root)\n",
    "        if balanceFactor > 1:\n",
    "            if key < root.left.key:\n",
    "                return self.rightRotate(root)\n",
    "            else:\n",
    "                root.left = self.leftRotate(root.left)\n",
    "                return self.rightRotate(root)\n",
    "\n",
    "        if balanceFactor < -1:\n",
    "            if key > root.right.key:\n",
    "                return self.leftRotate(root)\n",
    "            else:\n",
    "                root.right = self.rightRotate(root.right)\n",
    "                return self.leftRotate(root)\n",
    "\n",
    "        return root\n",
    "\n",
    "    # Function to delete a node\n",
    "    def delete_node(self, root, key):\n",
    "\n",
    "        # Find the node to be deleted and remove it\n",
    "        if not root:\n",
    "            return root\n",
    "        elif key < root.key:\n",
    "            root.left = self.delete_node(root.left, key)\n",
    "        elif key > root.key:\n",
    "            root.right = self.delete_node(root.right, key)\n",
    "        else:\n",
    "            if root.left is None:\n",
    "                temp = root.right\n",
    "                root = None\n",
    "                return temp\n",
    "            elif root.right is None:\n",
    "                temp = root.left\n",
    "                root = None\n",
    "                return temp\n",
    "            temp = self.getMinValueNode(root.right)\n",
    "            root.key = temp.key\n",
    "            root.right = self.delete_node(root.right,\n",
    "                                          temp.key)\n",
    "        if root is None:\n",
    "            return root\n",
    "\n",
    "        # Update the balance factor of nodes\n",
    "        root.height = 1 + max(self.getHeight(root.left),\n",
    "                              self.getHeight(root.right))\n",
    "\n",
    "        balanceFactor = self.getBalance(root)\n",
    "\n",
    "        # Balance the tree\n",
    "        if balanceFactor > 1:\n",
    "            if self.getBalance(root.left) >= 0:\n",
    "                return self.rightRotate(root)\n",
    "            else:\n",
    "                root.left = self.leftRotate(root.left)\n",
    "                return self.rightRotate(root)\n",
    "        if balanceFactor < -1:\n",
    "            if self.getBalance(root.right) <= 0:\n",
    "                return self.leftRotate(root)\n",
    "            else:\n",
    "                root.right = self.rightRotate(root.right)\n",
    "                return self.leftRotate(root)\n",
    "        return root\n",
    "\n",
    "    # Function to perform left rotation\n",
    "    def leftRotate(self, z):\n",
    "        y = z.right\n",
    "        T2 = y.left\n",
    "        y.left = z\n",
    "        z.right = T2\n",
    "        z.height = 1 + max(self.getHeight(z.left),\n",
    "                           self.getHeight(z.right))\n",
    "        y.height = 1 + max(self.getHeight(y.left),\n",
    "                           self.getHeight(y.right))\n",
    "        return y\n",
    "\n",
    "    # Function to perform right rotation\n",
    "    def rightRotate(self, z):\n",
    "        y = z.left\n",
    "        T3 = y.right\n",
    "        y.right = z\n",
    "        z.left = T3\n",
    "        z.height = 1 + max(self.getHeight(z.left),\n",
    "                           self.getHeight(z.right))\n",
    "        y.height = 1 + max(self.getHeight(y.left),\n",
    "                           self.getHeight(y.right))\n",
    "        return y\n",
    "\n",
    "    # Get the height of the node\n",
    "    def getHeight(self, root):\n",
    "        if not root:\n",
    "            return 0\n",
    "        return root.height\n",
    "\n",
    "    # Get balance factore of the node\n",
    "    def getBalance(self, root):\n",
    "        if not root:\n",
    "            return 0\n",
    "        return self.getHeight(root.left) - self.getHeight(root.right)\n",
    "\n",
    "    def getMinValueNode(self, root):\n",
    "        if root is None or root.left is None:\n",
    "            return root\n",
    "        return self.getMinValueNode(root.left)\n",
    "\n",
    "    def preOrder(self, root):\n",
    "        if not root:\n",
    "            return\n",
    "        print(\"{0} \".format(root.key), end=\"\")\n",
    "        self.preOrder(root.left)\n",
    "        self.preOrder(root.right)\n",
    "\n",
    "    # Print the tree\n",
    "    def printHelper(self, currPtr, indent, last):\n",
    "        if currPtr != None:\n",
    "            sys.stdout.write(indent)\n",
    "            if last:\n",
    "                sys.stdout.write(\"R----\")\n",
    "                indent += \"     \"\n",
    "            else:\n",
    "                sys.stdout.write(\"L----\")\n",
    "                indent += \"|    \"\n",
    "            print(currPtr.key)\n",
    "            self.printHelper(currPtr.left, indent, False)\n",
    "            self.printHelper(currPtr.right, indent, True)\n",
    "\n",
    "\n",
    "myTree = AVLTree()\n",
    "root = None\n",
    "nums = [33, 13, 52, 9, 21, 61, 8, 11]\n",
    "for num in nums:\n",
    "    root = myTree.insert_node(root, num)\n",
    "myTree.printHelper(root, \"\", True)\n",
    "key = 13\n",
    "root = myTree.delete_node(root, key)\n",
    "print(\"After Deletion: \")\n",
    "myTree.printHelper(root, \"\", True)"
   ]
  },
  {
   "cell_type": "markdown",
   "metadata": {},
   "source": [
    "### B-Tree"
   ]
  },
  {
   "cell_type": "code",
   "execution_count": 7,
   "metadata": {},
   "outputs": [
    {
     "name": "stdout",
     "output_type": "stream",
     "text": [
      "Templates for commands are as follows:(this assumes no duplicate keys)\n",
      "To add data at root enter:- add <data> at root\n",
      "To add data below another data enter:- add <data> below <data>\n",
      "To remove/delete data enter:- remove <data>\n",
      "To display the Btree enter:- display\n",
      "To end the process enter:- quit\n",
      "What would you like to do? add 1 at root\n",
      "What would you like to do? add 2 below 1\n",
      "What would you like to do? add 3 below 1\n",
      "What would you like to do?  add 4 below 2\n",
      "What would you like to do? add 5 below 2\n",
      "What would you like to do? display\n",
      "BFS traversal display: 1 2 3 4 5 \n",
      "What would you like to do? quit\n"
     ]
    }
   ],
   "source": [
    "class BTree:\n",
    "    def __init__(self, data=None, parent=None):\n",
    "        self.key = data\n",
    "        self.children = []\n",
    "        self.parent = parent\n",
    " \n",
    "    def set_root(self, data):\n",
    "        self.key = data\n",
    " \n",
    "    def add(self, node):\n",
    "        self.children.append(node)\n",
    " \n",
    "    def search(self, key):\n",
    "        if self.key == key:\n",
    "            return self\n",
    "        for child in self.children:\n",
    "            temp = child.search(key)\n",
    "            if temp is not None:\n",
    "                return temp\n",
    "        return None\n",
    " \n",
    "    def remove(self):\n",
    "        parent = self.parent\n",
    "        index = parent.children.index(self)\n",
    "        parent.children.remove(self)\n",
    "        for child in reversed(self.children):\n",
    "            parent.children.insert(index, child)\n",
    "            child.parent = parent\n",
    " \n",
    "    def bfs_display(self):\n",
    "        queue = [self]\n",
    "        while queue != []:\n",
    "            popped = queue.pop(0)\n",
    "            for child in popped.children:\n",
    "                queue.append(child)\n",
    "            print(popped.key, end=' ')\n",
    "\n",
    "def main(): \n",
    "    tree = None\n",
    "    \n",
    "    print('Templates for commands are as follows:(this assumes no duplicate keys)')\n",
    "    print('To add data at root enter:- add <data> at root')\n",
    "    print('To add data below another data enter:- add <data> below <data>')\n",
    "    print('To remove/delete data enter:- remove <data>')\n",
    "    print('To display the Btree enter:- display')\n",
    "    print('To end the process enter:- quit')\n",
    "    \n",
    "    while True:\n",
    "        do = input('What would you like to do? ').split()\n",
    "    \n",
    "        operation = do[0].strip().lower()\n",
    "        if operation == 'add':\n",
    "            data = int(do[1])\n",
    "            new_node = BTree(data)\n",
    "            suboperation = do[2].strip().lower() \n",
    "            if suboperation == 'at':\n",
    "                tree = new_node\n",
    "            elif suboperation == 'below':\n",
    "                position = do[3].strip().lower()\n",
    "                key = int(position)\n",
    "                ref_node = None\n",
    "                if tree is not None:\n",
    "                    ref_node = tree.search(key)\n",
    "                if ref_node is None:\n",
    "                    print('No such key.')\n",
    "                    continue\n",
    "                new_node.parent = ref_node\n",
    "                ref_node.add(new_node)\n",
    "    \n",
    "        elif operation == 'remove':\n",
    "            data = int(do[1])\n",
    "            to_remove = tree.search(data)\n",
    "            if tree == to_remove:\n",
    "                if tree.children == []:\n",
    "                    tree = None\n",
    "                else:\n",
    "                    leaf = tree.children[0]\n",
    "                    while leaf.children != []:\n",
    "                        leaf = leaf.children[0]\n",
    "                    leaf.parent.children.remove(leaf)\n",
    "                    leaf.parent = None\n",
    "                    leaf.children = tree.children\n",
    "                    tree = leaf\n",
    "            else:\n",
    "                to_remove.remove()\n",
    "    \n",
    "        elif operation == 'display':\n",
    "            if tree is not None:\n",
    "                print('BFS traversal display: ', end='')\n",
    "                tree.bfs_display()\n",
    "                print()\n",
    "            else:\n",
    "                print('Tree is empty.')\n",
    "    \n",
    "        elif operation == 'quit':\n",
    "            break\n",
    "\n",
    "\n",
    "main()"
   ]
  },
  {
   "cell_type": "code",
   "execution_count": 9,
   "metadata": {},
   "outputs": [
    {
     "name": "stdout",
     "output_type": "stream",
     "text": [
      "Level  0   2:(2, 4) (5, 10) \n",
      "Level  1   2:(0, 0) (1, 2) \n",
      "Level  1   2:(3, 6) (4, 8) \n",
      "Level  1   4:(6, 12) (7, 14) (8, 16) (9, 18) \n"
     ]
    }
   ],
   "source": [
    "class BTreeNode:\n",
    "    def __init__(self, leaf=False):\n",
    "        self.leaf = leaf\n",
    "        self.keys = []\n",
    "        self.child = []\n",
    "\n",
    "\n",
    "# Tree\n",
    "class BTree:\n",
    "    def __init__(self, t):\n",
    "        self.root = BTreeNode(True)\n",
    "        self.t = t\n",
    "\n",
    "    # Insert node\n",
    "    def insert(self, k):\n",
    "        root = self.root\n",
    "        if len(root.keys) == (2 * self.t) - 1:\n",
    "            temp = BTreeNode()\n",
    "            self.root = temp\n",
    "            temp.child.insert(0, root)\n",
    "            self.split_child(temp, 0)\n",
    "            self.insert_non_full(temp, k)\n",
    "        else:\n",
    "            self.insert_non_full(root, k)\n",
    "\n",
    "    # Insert nonfull\n",
    "    def insert_non_full(self, x, k):\n",
    "        i = len(x.keys) - 1\n",
    "        if x.leaf:\n",
    "            x.keys.append((None, None))\n",
    "            while i >= 0 and k[0] < x.keys[i][0]:\n",
    "                x.keys[i + 1] = x.keys[i]\n",
    "                i -= 1\n",
    "            x.keys[i + 1] = k\n",
    "        else:\n",
    "            while i >= 0 and k[0] < x.keys[i][0]:\n",
    "                i -= 1\n",
    "            i += 1\n",
    "            if len(x.child[i].keys) == (2 * self.t) - 1:\n",
    "                self.split_child(x, i)\n",
    "                if k[0] > x.keys[i][0]:\n",
    "                    i += 1\n",
    "            self.insert_non_full(x.child[i], k)\n",
    "\n",
    "    # Split the child\n",
    "    def split_child(self, x, i):\n",
    "        t = self.t\n",
    "        y = x.child[i]\n",
    "        z = BTreeNode(y.leaf)\n",
    "        x.child.insert(i + 1, z)\n",
    "        x.keys.insert(i, y.keys[t - 1])\n",
    "        z.keys = y.keys[t: (2 * t) - 1]\n",
    "        y.keys = y.keys[0: t - 1]\n",
    "        if not y.leaf:\n",
    "            z.child = y.child[t: 2 * t]\n",
    "            y.child = y.child[0: t - 1]\n",
    "\n",
    "    # Print the tree\n",
    "    def print_tree(self, x, l=0):\n",
    "        print(\"Level \", l, \" \", len(x.keys), end=\":\")\n",
    "        for i in x.keys:\n",
    "            print(i, end=\" \")\n",
    "        print()\n",
    "        l += 1\n",
    "        if len(x.child) > 0:\n",
    "            for i in x.child:\n",
    "                self.print_tree(i, l)\n",
    "\n",
    "\n",
    "def main():\n",
    "    B = BTree(3)\n",
    "\n",
    "    for i in range(10):\n",
    "        B.insert((i, 2 * i))\n",
    "\n",
    "    B.print_tree(B.root)\n",
    "\n",
    "\n",
    "if __name__ == '__main__':\n",
    "    main()"
   ]
  },
  {
   "cell_type": "markdown",
   "metadata": {},
   "source": [
    "### Adjacency Matrix"
   ]
  },
  {
   "cell_type": "code",
   "execution_count": 11,
   "metadata": {},
   "outputs": [],
   "source": [
    "class Graph:\n",
    "    def __init__(self, size):\n",
    "        self.adjacency_matrix = []\n",
    "        for i in range(size):\n",
    "            self.adjacency_matrix.append([0 for i in range(size)])\n",
    "        self.size = size\n",
    "        \n",
    "    def add_edge(self, v1, v2):\n",
    "        if v1 == v2:\n",
    "            print(\"Connecting to same vertex\")\n",
    "        self.adjacency_matrix[v1][v2] = 1\n",
    "        self.adjacency_matrix[v2][v1] = 1\n",
    "        \n",
    "    def remove_edge(self, v1, v2):\n",
    "        if self.adjacency_matrix[v1][v2] == 0:\n",
    "            print(\"No edge between %d and %d\" % (v1, v2))\n",
    "            return\n",
    "        self.adjacency_matrix[v1][v2] = 0\n",
    "        self.adjacency_matrix[v2][v1] = 0\n",
    "    \n",
    "    def __len__(self):\n",
    "        return self.size\n",
    "    \n",
    "    def print_matrix(self):\n",
    "        for row in self.adjacency_matrix:\n",
    "            print(row)\n",
    "            "
   ]
  },
  {
   "cell_type": "code",
   "execution_count": 12,
   "metadata": {},
   "outputs": [
    {
     "name": "stdout",
     "output_type": "stream",
     "text": [
      "[0, 1, 1, 0, 0]\n",
      "[1, 0, 1, 0, 0]\n",
      "[1, 1, 0, 1, 0]\n",
      "[0, 0, 1, 0, 0]\n",
      "[0, 0, 0, 0, 0]\n"
     ]
    }
   ],
   "source": [
    "def main():\n",
    "    g = Graph(5)\n",
    "    g.add_edge(0, 1)\n",
    "    g.add_edge(0, 2)\n",
    "    g.add_edge(1, 2)\n",
    "    g.add_edge(2, 0)\n",
    "    g.add_edge(2, 3)\n",
    "\n",
    "    g.print_matrix()\n",
    "\n",
    "\n",
    "if __name__ == '__main__':\n",
    "    main()"
   ]
  },
  {
   "cell_type": "markdown",
   "metadata": {},
   "source": [
    "### Adjacency List"
   ]
  },
  {
   "cell_type": "code",
   "execution_count": 14,
   "metadata": {},
   "outputs": [
    {
     "name": "stdout",
     "output_type": "stream",
     "text": [
      "Vertex 0: -> 3 -> 2 -> 1 \n",
      "\n",
      "Vertex 1: -> 2 -> 0 \n",
      "\n",
      "Vertex 2: -> 1 -> 0 \n",
      "\n",
      "Vertex 3: -> 0 \n",
      "\n",
      "Vertex 4: \n",
      "\n"
     ]
    }
   ],
   "source": [
    "class AdjNode:\n",
    "    def __init__(self, value):\n",
    "        self.vertex = value\n",
    "        self.next = None\n",
    "        \n",
    "        \n",
    "class Graph:\n",
    "    def __init__(self, num):\n",
    "        self.v = num\n",
    "        self.graph = [None] * self.v\n",
    "        \n",
    "    def add_edge(self, s, d):\n",
    "        node = AdjNode(d)\n",
    "        node.next = self.graph[s]\n",
    "        self.graph[s] = node\n",
    "        \n",
    "        node = AdjNode(s)\n",
    "        node.next = self.graph[d]\n",
    "        self.graph[d] = node\n",
    "        \n",
    "    def print_agraph(self):\n",
    "        for i in range(self.v):\n",
    "            print(\"Vertex \" + str(i) + \":\", end=\"\")\n",
    "            temp = self.graph[i]\n",
    "            while temp:\n",
    "                print(\" -> {}\".format(temp.vertex), end=\"\")\n",
    "                temp = temp.next\n",
    "            print(\" \\n\")\n",
    "        \n",
    "V = 5\n",
    "\n",
    "# Create graph and edges\n",
    "graph = Graph(V)\n",
    "graph.add_edge(0, 1)\n",
    "graph.add_edge(0, 2)\n",
    "graph.add_edge(0, 3)\n",
    "graph.add_edge(1, 2)\n",
    "\n",
    "graph.print_agraph()"
   ]
  },
  {
   "cell_type": "markdown",
   "metadata": {},
   "source": [
    "### Depth First Search"
   ]
  },
  {
   "cell_type": "code",
   "execution_count": 3,
   "metadata": {},
   "outputs": [
    {
     "name": "stdout",
     "output_type": "stream",
     "text": [
      "0\n",
      "1\n",
      "3\n",
      "4\n",
      "2\n",
      "2\n"
     ]
    },
    {
     "data": {
      "text/plain": [
       "{'0', '1', '2', '3', '4'}"
      ]
     },
     "execution_count": 3,
     "metadata": {},
     "output_type": "execute_result"
    }
   ],
   "source": [
    "# DFS algorithm\n",
    "def dfs(graph, start, visited=None):\n",
    "    if visited is None:\n",
    "        visited = set()\n",
    "    visited.add(start)\n",
    "\n",
    "    print(start)\n",
    "\n",
    "    for next in graph[start] - visited:\n",
    "        #print(next)\n",
    "        dfs(graph, next, visited)\n",
    "    return visited\n",
    "\n",
    "\n",
    "graph = {'0': set(['1', '2']),\n",
    "         '1': set(['0', '3', '4']),\n",
    "         '2': set(['0']),\n",
    "         '3': set(['1']),\n",
    "         '4': set(['2', '3'])}\n",
    "\n",
    "dfs(graph, '0')"
   ]
  },
  {
   "cell_type": "markdown",
   "metadata": {},
   "source": [
    "### Breadth First Search"
   ]
  },
  {
   "cell_type": "code",
   "execution_count": 4,
   "metadata": {},
   "outputs": [
    {
     "name": "stdout",
     "output_type": "stream",
     "text": [
      "Following is Breadth First Traversal (starting from vertex 2)\n",
      "2 0 3 1 "
     ]
    }
   ],
   "source": [
    "from collections import defaultdict\n",
    " \n",
    "# This class represents a directed graph\n",
    "# using adjacency list representation\n",
    "class Graph:\n",
    " \n",
    "    # Constructor\n",
    "    def __init__(self):\n",
    " \n",
    "        # default dictionary to store graph\n",
    "        self.graph = defaultdict(list)\n",
    " \n",
    "    # function to add an edge to graph\n",
    "    def addEdge(self,u,v):\n",
    "        self.graph[u].append(v)\n",
    " \n",
    "    # Function to print a BFS of graph\n",
    "    def BFS(self, s):\n",
    " \n",
    "        # Mark all the vertices as not visited\n",
    "        \n",
    "        visited = [False] * (len(self.graph))\n",
    " \n",
    "        # Create a queue for BFS\n",
    "        queue = []\n",
    " \n",
    "        # Mark the source node as \n",
    "        # visited and enqueue it\n",
    "        queue.append(s)\n",
    "        visited[s] = True\n",
    " \n",
    "        while queue:\n",
    " \n",
    "            # Dequeue a vertex from \n",
    "            # queue and print it\n",
    "            s = queue.pop(0)\n",
    "            print (s, end = \" \")\n",
    " \n",
    "            # Get all adjacent vertices of the\n",
    "            # dequeued vertex s. If a adjacent\n",
    "            # has not been visited, then mark it\n",
    "            # visited and enqueue it\n",
    "            for i in self.graph[s]:\n",
    "                if visited[i] == False:\n",
    "                    queue.append(i)\n",
    "                    visited[i] = True\n",
    " \n",
    " \n",
    "# Create a graph given in\n",
    "# the above diagram\n",
    "g = Graph()\n",
    "g.addEdge(0, 1)\n",
    "g.addEdge(0, 2)\n",
    "g.addEdge(1, 2)\n",
    "g.addEdge(2, 0)\n",
    "g.addEdge(2, 3)\n",
    "g.addEdge(3, 3)\n",
    " \n",
    "print (\"Following is Breadth First Traversal\"\n",
    "                  \" (starting from vertex 2)\")\n",
    "g.BFS(2)"
   ]
  },
  {
   "cell_type": "markdown",
   "metadata": {},
   "source": [
    "### Dijkstra Algorithms"
   ]
  },
  {
   "cell_type": "code",
   "execution_count": 3,
   "metadata": {},
   "outputs": [],
   "source": [
    "import sys\n",
    "\n",
    "class Graph:\n",
    "    \n",
    "    def __init__(self, vertices):\n",
    "        self.V = vertices\n",
    "        self.graph = [[0 for column in range(vertices)] for row in range(vertices)]\n",
    "        \n",
    "    def printSolution(self, dist):\n",
    "        print(\"Vertex \\tDistance from Source\")\n",
    "        for node in range(self.V): \n",
    "            print(node, \"\\t\", dist[node])\n",
    "            \n",
    "    def minDistance(self, dist, sptSet):\n",
    "        min = 1000 #sys.maxsize\n",
    "        \n",
    "        for v in range(self.V):\n",
    "            if dist[v] < min and sptSet[v] == False:\n",
    "                min = dist[v]\n",
    "                min_index = v\n",
    "                \n",
    "        return min_index\n",
    "    \n",
    "    def dijkstra(self, src):\n",
    "        dist = [1000] * self.V #[sys.maxsize] * self.V\n",
    "        dist[src] = 0\n",
    "        sptSet = [False] * self.V\n",
    "        \n",
    "        for cout in range(self.V):\n",
    "            u = self.minDistance(dist, sptSet)\n",
    "            \n",
    "            sptSet[u] = True\n",
    "            \n",
    "            for v in range(self.V):\n",
    "                if self.graph[u][v] > 0 and sptSet[v] == False and \\\n",
    "                dist[v] > dist[u] + self.graph[u][v]:\n",
    "                    \n",
    "                    dist[v] = dist[u] + self.graph[u][v]\n",
    "        \n",
    "        self.printSolution(dist)"
   ]
  },
  {
   "cell_type": "code",
   "execution_count": 4,
   "metadata": {},
   "outputs": [
    {
     "name": "stdout",
     "output_type": "stream",
     "text": [
      "1000 0 4\n",
      "1000 0 8\n",
      "1000 4 8\n",
      "1000 8 1\n",
      "1000 8 7\n",
      "1000 9 2\n",
      "1000 11 14\n",
      "1000 11 10\n",
      "25 12 7\n",
      "15 12 2\n",
      "Vertex \tDistance from Source\n",
      "0 \t 0\n",
      "1 \t 4\n",
      "2 \t 12\n",
      "3 \t 19\n",
      "4 \t 21\n",
      "5 \t 11\n",
      "6 \t 9\n",
      "7 \t 8\n",
      "8 \t 14\n"
     ]
    }
   ],
   "source": [
    "g = Graph(9)\n",
    "g.graph = [[0, 4, 0, 0, 0, 0, 0, 8, 0], \n",
    "        [4, 0, 8, 0, 0, 0, 0, 11, 0], \n",
    "        [0, 8, 0, 7, 0, 4, 0, 0, 2], \n",
    "        [0, 0, 7, 0, 9, 14, 0, 0, 0], \n",
    "        [0, 0, 0, 9, 0, 10, 0, 0, 0], \n",
    "        [0, 0, 4, 14, 10, 0, 2, 0, 0], \n",
    "        [0, 0, 0, 0, 0, 2, 0, 1, 6], \n",
    "        [8, 11, 0, 0, 0, 0, 1, 0, 7], \n",
    "        [0, 0, 2, 0, 0, 0, 6, 7, 0] \n",
    "        ]; \n",
    "\n",
    "g.dijkstra(0); "
   ]
  },
  {
   "cell_type": "markdown",
   "metadata": {},
   "source": [
    "### Bellman Ford Algorithm"
   ]
  },
  {
   "cell_type": "code",
   "execution_count": 9,
   "metadata": {},
   "outputs": [
    {
     "name": "stdout",
     "output_type": "stream",
     "text": [
      "Source: 0, distance: 0\n",
      "Source: 1, distance: -1\n",
      "Source: 2, distance: 2\n",
      "Source: 3, distance: -2\n",
      "Source: 4, distance: 1\n"
     ]
    }
   ],
   "source": [
    "class Graph:\n",
    "    \n",
    "    def __init__(self, vertices):\n",
    "        self.V = vertices\n",
    "        self.graph = []\n",
    "        \n",
    "    def add_edge(self, s, d, w):\n",
    "        self.graph.append([s, d, w])\n",
    "        \n",
    "    def printSolution(self, dist):\n",
    "        for i in range(self.V):\n",
    "            print(f\"Source: {i}, distance: {dist[i]}\")\n",
    "            \n",
    "    def bellmanFord(self, src):\n",
    "        dist = [float(\"Inf\")] * self.V\n",
    "        dist[src] = 0\n",
    "        \n",
    "        for _ in range(self.V - 1):\n",
    "            for s, d, w in self.graph:\n",
    "                if dist[s] != float(\"Inf\") and dist[s] + w < dist[d]:\n",
    "                    dist[d] = dist[s] + w\n",
    "        \n",
    "        for s, d, w in self.graph:\n",
    "            if dist[s] != float('Inf') and dist[s] + w < dist[d]:\n",
    "                print(\"Negative Cycle is present\")\n",
    "                return \n",
    "            \n",
    "        self.printSolution(dist)\n",
    "\n",
    "g = Graph(5)  \n",
    "g.add_edge(0, 1, -1)  \n",
    "g.add_edge(0, 2, 4)  \n",
    "g.add_edge(1, 2, 3)  \n",
    "g.add_edge(1, 3, 2)  \n",
    "g.add_edge(1, 4, 2)  \n",
    "g.add_edge(3, 2, 5) \n",
    "g.add_edge(3, 1, 1)  \n",
    "g.add_edge(4, 3, -3)  \n",
    "  \n",
    "# Print the solution  \n",
    "g.bellmanFord(0)  \n",
    "         "
   ]
  },
  {
   "cell_type": "code",
   "execution_count": null,
   "metadata": {},
   "outputs": [],
   "source": []
  }
 ],
 "metadata": {
  "kernelspec": {
   "display_name": "Python 3",
   "language": "python",
   "name": "python3"
  },
  "language_info": {
   "codemirror_mode": {
    "name": "ipython",
    "version": 3
   },
   "file_extension": ".py",
   "mimetype": "text/x-python",
   "name": "python",
   "nbconvert_exporter": "python",
   "pygments_lexer": "ipython3",
   "version": "3.7.6"
  }
 },
 "nbformat": 4,
 "nbformat_minor": 4
}

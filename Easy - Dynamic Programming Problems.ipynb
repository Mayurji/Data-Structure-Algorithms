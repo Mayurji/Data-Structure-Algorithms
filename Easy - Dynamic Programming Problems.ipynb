{
 "cells": [
  {
   "cell_type": "markdown",
   "metadata": {},
   "source": [
    "###  Climbing Stairs\n",
    "\n",
    "You are climbing a staircase. It takes n steps to reach the top.\n",
    "\n",
    "Each time you can either climb 1 or 2 steps. In how many distinct ways can you climb to the top?\n",
    "\n",
    "```\n",
    "Input: n = 2\n",
    "Output: 2\n",
    "Explanation: There are two ways to climb to the top.\n",
    "1. 1 step + 1 step\n",
    "2. 2 steps\n",
    "\n",
    "Input: n = 3\n",
    "Output: 3\n",
    "Explanation: There are three ways to climb to the top.\n",
    "1. 1 step + 1 step + 1 step\n",
    "2. 1 step + 2 steps\n",
    "3. 2 steps + 1 step\n",
    "```"
   ]
  },
  {
   "cell_type": "code",
   "execution_count": 8,
   "metadata": {},
   "outputs": [],
   "source": [
    "# Top down - TLE\n",
    "def climbStairs1(self, n):\n",
    "    if n == 1:\n",
    "        return 1\n",
    "    if n == 2:\n",
    "        return 2\n",
    "    return self.climbStairs(n-1)+self.climbStairs(n-2)\n",
    " \n",
    "# Bottom up, O(n) space\n",
    "def climbStairs2(self, n):\n",
    "    if n == 1:\n",
    "        return 1\n",
    "    res = [0 for i in xrange(n)]\n",
    "    res[0], res[1] = 1, 2\n",
    "    for i in xrange(2, n):\n",
    "        res[i] = res[i-1] + res[i-2]\n",
    "    return res[-1]\n",
    "\n",
    "# Bottom up, constant space\n",
    "def climbStairs3(self, n):\n",
    "    if n == 1:\n",
    "        return 1\n",
    "    a, b = 1, 2\n",
    "    for i in xrange(2, n):\n",
    "        tmp = b\n",
    "        b = a+b\n",
    "        a = tmp\n",
    "    return b\n",
    "    \n",
    "# Top down + memorization (list)\n",
    "def climbStairs4(self, n):\n",
    "    if n == 1:\n",
    "        return 1\n",
    "    dic = [-1 for i in xrange(n)]\n",
    "    dic[0], dic[1] = 1, 2\n",
    "    return self.helper(n-1, dic)\n",
    "    \n",
    "def helper(self, n, dic):\n",
    "    if dic[n] < 0:\n",
    "        dic[n] = self.helper(n-1, dic)+self.helper(n-2, dic)\n",
    "    return dic[n]\n",
    "    \n",
    "# Top down + memorization (dictionary)  \n",
    "def __init__(self):\n",
    "    self.dic = {1:1, 2:2}\n",
    "    \n",
    "def climbStairs(self, n):\n",
    "    if n not in self.dic:\n",
    "        self.dic[n] = self.climbStairs(n-1) + self.climbStairs(n-2)\n",
    "    return self.dic[n]"
   ]
  },
  {
   "cell_type": "code",
   "execution_count": 6,
   "metadata": {},
   "outputs": [],
   "source": [
    "def climbStairs(n):\n",
    "    if n == 1:\n",
    "        return 1\n",
    "    res = [0 for i in range(n)]\n",
    "    res[0], res[1] = 1, 2\n",
    "    for i in range(2, n):\n",
    "        res[i] = res[i-1] + res[i-2]\n",
    "    return res[-1]"
   ]
  },
  {
   "cell_type": "code",
   "execution_count": 7,
   "metadata": {},
   "outputs": [
    {
     "data": {
      "text/plain": [
       "8"
      ]
     },
     "execution_count": 7,
     "metadata": {},
     "output_type": "execute_result"
    }
   ],
   "source": [
    "climbStairs(5)"
   ]
  },
  {
   "cell_type": "markdown",
   "metadata": {},
   "source": [
    "###  Best Time to Buy and Sell Stock\n",
    "\n",
    "You are given an array prices where prices[i] is the price of a given stock on the ith day.\n",
    "\n",
    "You want to maximize your profit by choosing a single day to buy one stock and choosing a different day in the future to sell that stock.\n",
    "\n",
    "Return the maximum profit you can achieve from this transaction. If you cannot achieve any profit, return 0.\n",
    "\n",
    "```\n",
    "Input: prices = [7,1,5,3,6,4]\n",
    "Output: 5\n",
    "Explanation: Buy on day 2 (price = 1) and sell on day 5 (price = 6), profit = 6-1 = 5.\n",
    "Note that buying on day 2 and selling on day 1 is not allowed because you must buy before you sell.\n",
    "\n",
    "```"
   ]
  },
  {
   "cell_type": "code",
   "execution_count": 20,
   "metadata": {},
   "outputs": [],
   "source": [
    "def bestBuy(prices):\n",
    "    if not prices:\n",
    "        return 0\n",
    "\n",
    "    maxProfit = 0\n",
    "    minPurchase = prices[0]\n",
    "    for i in range(1, len(prices)):\n",
    "        maxProfit = max(maxProfit, prices[i] - minPurchase)\n",
    "        minPurchase = min(minPurchase, prices[i])\n",
    "    return maxProfit"
   ]
  },
  {
   "cell_type": "code",
   "execution_count": 21,
   "metadata": {},
   "outputs": [
    {
     "data": {
      "text/plain": [
       "5"
      ]
     },
     "execution_count": 21,
     "metadata": {},
     "output_type": "execute_result"
    }
   ],
   "source": [
    "bestBuy([7,1,5,3,6,4])"
   ]
  },
  {
   "cell_type": "markdown",
   "metadata": {},
   "source": [
    "### Maximum Subarray\n",
    "\n",
    "Given an integer array nums, find the contiguous subarray (containing at least one number) which has the largest sum and return its sum.\n",
    "```\n",
    "Input: nums = [-2,1,-3,4,-1,2,1,-5,4]\n",
    "Output: 6\n",
    "Explanation: [4,-1,2,1] has the largest sum = 6.\n",
    "```"
   ]
  },
  {
   "cell_type": "code",
   "execution_count": 3,
   "metadata": {},
   "outputs": [],
   "source": [
    "def maxSubarray(nums):\n",
    "    for i in range(1, len(nums)):\n",
    "        if nums[i-1] > 0:\n",
    "            nums[i] += nums[i-1]\n",
    "    print(nums)\n",
    "    return max(nums)"
   ]
  },
  {
   "cell_type": "code",
   "execution_count": 4,
   "metadata": {},
   "outputs": [
    {
     "name": "stdout",
     "output_type": "stream",
     "text": [
      "[-2, 1, -2, 4, 3, 5, 6, 1, 5]\n"
     ]
    },
    {
     "data": {
      "text/plain": [
       "6"
      ]
     },
     "execution_count": 4,
     "metadata": {},
     "output_type": "execute_result"
    }
   ],
   "source": [
    "maxSubarray([-2,1,-3,4,-1,2,1,-5,4])"
   ]
  },
  {
   "cell_type": "markdown",
   "metadata": {},
   "source": [
    "### House Robber\n",
    "\n",
    "You are a professional robber planning to rob houses along a street. Each house has a certain amount of money stashed, the only constraint stopping you from robbing each of them is that adjacent houses have security system connected and it will automatically contact the police if two adjacent houses were broken into on the same night.\n",
    "\n",
    "Given a list of non-negative integers representing the amount of money of each house, determine the maximum amount of money you can rob tonight without alerting the police.\n",
    "```\n",
    "Input: nums = [1,2,3,1]\n",
    "Output: 4\n",
    "Explanation: Rob house 1 (money = 1) and then rob house 3 (money = 3).\n",
    "             Total amount you can rob = 1 + 3 = 4.\n",
    "```"
   ]
  },
  {
   "cell_type": "code",
   "execution_count": 11,
   "metadata": {},
   "outputs": [],
   "source": [
    "def Robbing(nums):\n",
    "    prev = curr = 0\n",
    "    for num in nums:\n",
    "        temp = prev # This represents the nums[i-2]th value\n",
    "        prev = curr # This represents the nums[i-1]th value\n",
    "        curr = max(num + temp, prev) # Here we just plug into the formula\n",
    "    return curr"
   ]
  },
  {
   "cell_type": "code",
   "execution_count": 12,
   "metadata": {},
   "outputs": [
    {
     "data": {
      "text/plain": [
       "4"
      ]
     },
     "execution_count": 12,
     "metadata": {},
     "output_type": "execute_result"
    }
   ],
   "source": [
    "Robbing([2,1,1,2])"
   ]
  },
  {
   "cell_type": "code",
   "execution_count": null,
   "metadata": {},
   "outputs": [],
   "source": []
  }
 ],
 "metadata": {
  "kernelspec": {
   "display_name": "Python 3",
   "language": "python",
   "name": "python3"
  },
  "language_info": {
   "codemirror_mode": {
    "name": "ipython",
    "version": 3
   },
   "file_extension": ".py",
   "mimetype": "text/x-python",
   "name": "python",
   "nbconvert_exporter": "python",
   "pygments_lexer": "ipython3",
   "version": "3.7.6"
  }
 },
 "nbformat": 4,
 "nbformat_minor": 4
}

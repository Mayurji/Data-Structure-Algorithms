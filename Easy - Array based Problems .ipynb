{
 "cells": [
  {
   "cell_type": "markdown",
   "metadata": {},
   "source": [
    "# Level Easy - Array Based Problems"
   ]
  },
  {
   "cell_type": "markdown",
   "metadata": {},
   "source": [
    "### Remove Duplicates from Sorted Array\n",
    "```\n",
    "Input: nums = [1,1,2]\n",
    "Output: 2, nums = [1,2]\n",
    "Explanation: Your function should return length = 2, with the first two elements of nums being 1 and 2 respectively. It doesn't matter what you leave beyond the returned length.\n",
    "```"
   ]
  },
  {
   "cell_type": "code",
   "execution_count": 18,
   "metadata": {},
   "outputs": [
    {
     "data": {
      "text/plain": [
       "[4, 2, 2]"
      ]
     },
     "execution_count": 18,
     "metadata": {},
     "output_type": "execute_result"
    }
   ],
   "source": [
    "a = [5,4,2,2]\n",
    "a.pop(0)\n",
    "a"
   ]
  },
  {
   "cell_type": "code",
   "execution_count": 54,
   "metadata": {},
   "outputs": [],
   "source": [
    "def removeDuplicates(array):\n",
    "    size = len(array)\n",
    "    j = 0\n",
    "    for i in range(1, size):\n",
    "        while i <= len(array)-1 and array[j] == array[i]:\n",
    "            array.pop(i)\n",
    "        else:\n",
    "            j +=1\n",
    "    \n",
    "    return len(array)"
   ]
  },
  {
   "cell_type": "code",
   "execution_count": 55,
   "metadata": {},
   "outputs": [
    {
     "data": {
      "text/plain": [
       "6"
      ]
     },
     "execution_count": 55,
     "metadata": {},
     "output_type": "execute_result"
    }
   ],
   "source": [
    "removeDuplicates([1,1,1,1,1,1,2,2,3, 3, 4,4,6,7])"
   ]
  },
  {
   "cell_type": "markdown",
   "metadata": {},
   "source": [
    "###   Best Time to Buy and Sell Stock II\n",
    "\n",
    "Say you have an array prices for which the ith element is the price of a given stock on day i.\n",
    "\n",
    "Design an algorithm to find the maximum profit. You may complete as many transactions as you like (i.e., buy one and sell one share of the stock multiple times).\n",
    "\n",
    "Note: You may not engage in multiple transactions at the same time (i.e., you must sell the stock before you buy again).\n",
    "\n",
    "```\n",
    "Input: [7,1,5,3,6,4]\n",
    "Output: 7\n",
    "Explanation: Buy on day 2 (price = 1) and sell on day 3 (price = 5), profit = 5-1 = 4.\n",
    "             Then buy on day 4 (price = 3) and sell on day 5 (price = 6), profit = 6-3 = 3.\n",
    "\n",
    "Input: [7,6,4,3,1]\n",
    "Output: 0\n",
    "Explanation: In this case, no transaction is done, i.e. max profit = 0.\n",
    "```"
   ]
  },
  {
   "cell_type": "code",
   "execution_count": 58,
   "metadata": {},
   "outputs": [],
   "source": [
    "def buysell(array):\n",
    "    size = len(array)\n",
    "    min_idx = 0\n",
    "    profit = 0\n",
    "    while size-1:\n",
    "        if array[min_idx] < array[min_idx+1]:\n",
    "            profit += array[min_idx+1] - array[min_idx]\n",
    "            min_idx += 1\n",
    "            size -=1\n",
    "        else:\n",
    "            min_idx +=1\n",
    "            size -=1\n",
    "    return profit"
   ]
  },
  {
   "cell_type": "code",
   "execution_count": 60,
   "metadata": {},
   "outputs": [
    {
     "data": {
      "text/plain": [
       "0"
      ]
     },
     "execution_count": 60,
     "metadata": {},
     "output_type": "execute_result"
    }
   ],
   "source": [
    "buysell([7,6,4,3,1])"
   ]
  },
  {
   "cell_type": "markdown",
   "metadata": {},
   "source": [
    "### Rotate Array\n",
    "\n",
    "Given an array, rotate the array to the right by k steps, where k is non-negative.\n",
    "\n",
    "Follow up:\n",
    "\n",
    "    Try to come up as many solutions as you can, there are at least 3 different ways to solve this problem.\n",
    "    Could you do it in-place with O(1) extra space?\n",
    "\n",
    "```\n",
    "Input: nums = [1,2,3,4,5,6,7], k = 3\n",
    "Output: [5,6,7,1,2,3,4]\n",
    "Explanation:\n",
    "rotate 1 steps to the right: [7,1,2,3,4,5,6]\n",
    "rotate 2 steps to the right: [6,7,1,2,3,4,5]\n",
    "rotate 3 steps to the right: [5,6,7,1,2,3,4]\n",
    "```"
   ]
  },
  {
   "cell_type": "code",
   "execution_count": 82,
   "metadata": {},
   "outputs": [],
   "source": [
    "def rotate(array, k):\n",
    "    while k:\n",
    "        array.insert(0,array[-1])\n",
    "        array.pop()\n",
    "        k -= 1\n",
    "    return array"
   ]
  },
  {
   "cell_type": "code",
   "execution_count": 83,
   "metadata": {},
   "outputs": [
    {
     "data": {
      "text/plain": [
       "[5, 6, 7, 1, 2, 3, 4]"
      ]
     },
     "execution_count": 83,
     "metadata": {},
     "output_type": "execute_result"
    }
   ],
   "source": [
    "rotate(array = [1,2,3,4,5,6,7], k =3)"
   ]
  },
  {
   "cell_type": "markdown",
   "metadata": {},
   "source": [
    "### Contains Duplicate\n",
    "\n",
    "Given an array of integers, find if the array contains any duplicates.\n",
    "\n",
    "Your function should return true if any value appears at least twice in the array, and it should return false if every element is distinct.\n",
    "\n",
    "```\n",
    "Input: [1,2,3,1]\n",
    "Output: true\n",
    "```"
   ]
  },
  {
   "cell_type": "code",
   "execution_count": 84,
   "metadata": {},
   "outputs": [],
   "source": [
    "def duplicate(array):\n",
    "    if len(array) == len(set(array)):\n",
    "        return true"
   ]
  },
  {
   "cell_type": "markdown",
   "metadata": {},
   "source": [
    "### Single Number\n",
    "\n",
    "Given a non-empty array of integers nums, every element appears twice except for one. Find that single one.\n",
    "\n",
    "Follow up: Could you implement a solution with a linear runtime complexity and without using extra memory?\n",
    "\n",
    "```\n",
    "Input: nums = [2,2,1]\n",
    "Output: 1\n",
    "```"
   ]
  },
  {
   "cell_type": "code",
   "execution_count": 142,
   "metadata": {},
   "outputs": [],
   "source": [
    "from collections import defaultdict\n",
    "def singleNumber(array):\n",
    "    count = defaultdict(int)\n",
    "    for element in array:\n",
    "        count[element] +=1\n",
    "    print(count.values())\n",
    "    if 1 in count.values():\n",
    "        print(count.keys())\n",
    "        return print(list(count.keys())[list(count.values()).index(1)])\n",
    "        "
   ]
  },
  {
   "cell_type": "code",
   "execution_count": 143,
   "metadata": {},
   "outputs": [
    {
     "name": "stdout",
     "output_type": "stream",
     "text": [
      "dict_values([2, 2, 1])\n",
      "dict_keys([2, 1, 3])\n",
      "3\n"
     ]
    }
   ],
   "source": [
    "singleNumber(array=[2,2,1,1,3])"
   ]
  },
  {
   "cell_type": "markdown",
   "metadata": {},
   "source": [
    "###   Intersection of Two Arrays II\n",
    "\n",
    "Given two arrays, write a function to compute their intersection.\n",
    "\n",
    "```\n",
    "Input: nums1 = [1,2,2,1], nums2 = [2,2]\n",
    "Output: [2,2]\n",
    "\n",
    "Input: nums1 = [4,9,5], nums2 = [9,4,9,8,4]\n",
    "Output: [4,9]\n",
    "```"
   ]
  },
  {
   "cell_type": "code",
   "execution_count": 152,
   "metadata": {},
   "outputs": [],
   "source": [
    "def intersection(a1, a2):\n",
    "    intersect = list()\n",
    "    for e in a1:\n",
    "        if e in a2:\n",
    "            a2.remove(e)\n",
    "            intersect.append(e)\n",
    "    return intersect"
   ]
  },
  {
   "cell_type": "code",
   "execution_count": 154,
   "metadata": {},
   "outputs": [
    {
     "data": {
      "text/plain": [
       "[2]"
      ]
     },
     "execution_count": 154,
     "metadata": {},
     "output_type": "execute_result"
    }
   ],
   "source": [
    "intersection([2,2, 2], [2])"
   ]
  },
  {
   "cell_type": "markdown",
   "metadata": {},
   "source": [
    "### Plus One\n",
    "\n",
    "Given a non-empty array of decimal digits representing a non-negative integer, increment one to the integer.\n",
    "\n",
    "The digits are stored such that the most significant digit is at the head of the list, and each element in the array contains a single digit.\n",
    "\n",
    "You may assume the integer does not contain any leading zero, except the number 0 itself.\n",
    "\n",
    "```\n",
    "Input: digits = [1,2,3]\n",
    "Output: [1,2,4]\n",
    "Explanation: The array represents the integer 123.\n",
    "\n",
    "Input: digits = [4,3,2,1]\n",
    "Output: [4,3,2,2]\n",
    "Explanation: The array represents the integer 4321.\n",
    "```"
   ]
  },
  {
   "cell_type": "code",
   "execution_count": 182,
   "metadata": {},
   "outputs": [],
   "source": [
    "def plusOne(array):\n",
    "    size = len(array)-1\n",
    "    nextDigit = 0\n",
    "    for i in array:\n",
    "        nextDigit += i * (10**(size))\n",
    "        size -=1\n",
    "        \n",
    "    if nextDigit+1 == 1:\n",
    "        return \n",
    "    return list(map(int, str(nextDigit+1)))"
   ]
  },
  {
   "cell_type": "code",
   "execution_count": 183,
   "metadata": {},
   "outputs": [
    {
     "data": {
      "text/plain": [
       "[1]"
      ]
     },
     "execution_count": 183,
     "metadata": {},
     "output_type": "execute_result"
    }
   ],
   "source": [
    "plusOne([0,0])"
   ]
  },
  {
   "cell_type": "markdown",
   "metadata": {},
   "source": [
    "### Move Zeros\n",
    "\n",
    "Given an array nums, write a function to move all 0's to the end of it while maintaining the relative order of the non-zero elements.\n",
    "\n",
    "```\n",
    "Input: [0,1,0,3,12]\n",
    "Output: [1,3,12,0,0]\n",
    "```\n",
    "    You must do this in-place without making a copy of the array.\n",
    "    Minimize the total number of operations.\n"
   ]
  },
  {
   "cell_type": "code",
   "execution_count": 24,
   "metadata": {},
   "outputs": [],
   "source": [
    "def moveZeros(nums):\n",
    "    lo = 0\n",
    "    for hi in range(len(nums)):\n",
    "        nums[lo], nums[hi] = nums[hi], nums[lo]\n",
    "        print(nums)\n",
    "        if nums[lo] != 0:\n",
    "            lo += 1\n",
    "    return nums"
   ]
  },
  {
   "cell_type": "code",
   "execution_count": 25,
   "metadata": {},
   "outputs": [
    {
     "name": "stdout",
     "output_type": "stream",
     "text": [
      "[0, 1, 0, 2, 3]\n",
      "[1, 0, 0, 2, 3]\n",
      "[1, 0, 0, 2, 3]\n",
      "[1, 2, 0, 0, 3]\n",
      "[1, 2, 3, 0, 0]\n",
      "CPU times: user 143 µs, sys: 23 µs, total: 166 µs\n",
      "Wall time: 93.9 µs\n"
     ]
    },
    {
     "data": {
      "text/plain": [
       "[1, 2, 3, 0, 0]"
      ]
     },
     "execution_count": 25,
     "metadata": {},
     "output_type": "execute_result"
    }
   ],
   "source": [
    "%time moveZeros([0,1,0,2,3])"
   ]
  },
  {
   "cell_type": "code",
   "execution_count": 13,
   "metadata": {},
   "outputs": [
    {
     "name": "stdout",
     "output_type": "stream",
     "text": [
      "CPU times: user 8 µs, sys: 1 µs, total: 9 µs\n",
      "Wall time: 11.9 µs\n"
     ]
    },
    {
     "data": {
      "text/plain": [
       "[1, 2, 3, 0, 0]"
      ]
     },
     "execution_count": 13,
     "metadata": {},
     "output_type": "execute_result"
    }
   ],
   "source": [
    "%time moveZeros([0,1,0,2,3])"
   ]
  },
  {
   "cell_type": "markdown",
   "metadata": {},
   "source": [
    "###   Two Sum\n",
    "Given an array of integers nums and an integer target, return indices of the two numbers such that they add up to target.\n",
    "\n",
    "You may assume that each input would have exactly one solution, and you may not use the same element twice.\n",
    "\n",
    "You can return the answer in any order.\n",
    "\n",
    "```\n",
    "Input: nums = [2,7,11,15], target = 9\n",
    "Output: [0,1]\n",
    "Output: Because nums[0] + nums[1] == 9, we return [0, 1].\n",
    "\n",
    "Input: nums = [3,2,4], target = 6\n",
    "Output: [1,2]\n",
    "```"
   ]
  },
  {
   "cell_type": "code",
   "execution_count": 34,
   "metadata": {},
   "outputs": [],
   "source": [
    "def twoSum(array, target):\n",
    "    size = len(array)\n",
    "    for i in range(size):\n",
    "        element = target - array[i]\n",
    "        if element in array[i+1:]:\n",
    "            array.pop(i)\n",
    "            break\n",
    "    return [i, array.index(element)+1]"
   ]
  },
  {
   "cell_type": "code",
   "execution_count": 35,
   "metadata": {},
   "outputs": [
    {
     "data": {
      "text/plain": [
       "[1, 2]"
      ]
     },
     "execution_count": 35,
     "metadata": {},
     "output_type": "execute_result"
    }
   ],
   "source": [
    "twoSum([3,2,4], 6)"
   ]
  },
  {
   "cell_type": "markdown",
   "metadata": {},
   "source": [
    "### Valid Sudoku\n",
    "\n",
    "Determine if a 9 x 9 Sudoku board is valid. Only the filled cells need to be validated according to the following rules:\n",
    "\n",
    "    Each row must contain the digits 1-9 without repetition.\n",
    "    Each column must contain the digits 1-9 without repetition.\n",
    "    Each of the nine 3 x 3 sub-boxes of the grid must contain the digits 1-9 without repetition.\n",
    "\n",
    "Note:\n",
    "\n",
    "    A Sudoku board (partially filled) could be valid but is not necessarily solvable.\n",
    "    Only the filled cells need to be validated according to the mentioned rules.\n",
    "\n",
    "```\n",
    "Input: board = \n",
    "[[\"5\",\"3\",\".\",\".\",\"7\",\".\",\".\",\".\",\".\"]\n",
    ",[\"6\",\".\",\".\",\"1\",\"9\",\"5\",\".\",\".\",\".\"]\n",
    ",[\".\",\"9\",\"8\",\".\",\".\",\".\",\".\",\"6\",\".\"]\n",
    ",[\"8\",\".\",\".\",\".\",\"6\",\".\",\".\",\".\",\"3\"]\n",
    ",[\"4\",\".\",\".\",\"8\",\".\",\"3\",\".\",\".\",\"1\"]\n",
    ",[\"7\",\".\",\".\",\".\",\"2\",\".\",\".\",\".\",\"6\"]\n",
    ",[\".\",\"6\",\".\",\".\",\".\",\".\",\"2\",\"8\",\".\"]\n",
    ",[\".\",\".\",\".\",\"4\",\"1\",\"9\",\".\",\".\",\"5\"]\n",
    ",[\".\",\".\",\".\",\".\",\"8\",\".\",\".\",\"7\",\"9\"]]\n",
    "Output: true\n",
    "\n",
    "\n",
    "Input: board = \n",
    "[[\"8\",\"3\",\".\",\".\",\"7\",\".\",\".\",\".\",\".\"]\n",
    ",[\"6\",\".\",\".\",\"1\",\"9\",\"5\",\".\",\".\",\".\"]\n",
    ",[\".\",\"9\",\"8\",\".\",\".\",\".\",\".\",\"6\",\".\"]\n",
    ",[\"8\",\".\",\".\",\".\",\"6\",\".\",\".\",\".\",\"3\"]\n",
    ",[\"4\",\".\",\".\",\"8\",\".\",\"3\",\".\",\".\",\"1\"]\n",
    ",[\"7\",\".\",\".\",\".\",\"2\",\".\",\".\",\".\",\"6\"]\n",
    ",[\".\",\"6\",\".\",\".\",\".\",\".\",\"2\",\"8\",\".\"]\n",
    ",[\".\",\".\",\".\",\"4\",\"1\",\"9\",\".\",\".\",\"5\"]\n",
    ",[\".\",\".\",\".\",\".\",\"8\",\".\",\".\",\"7\",\"9\"]]\n",
    "Output: false\n",
    "Explanation: Same as Example 1, except with the 5 in the top left corner being modified to 8. Since there are two 8's in the top left 3x3 sub-box, it is invalid.\n",
    "\n",
    "```"
   ]
  },
  {
   "cell_type": "code",
   "execution_count": 60,
   "metadata": {},
   "outputs": [],
   "source": [
    "def CheckSudoko(array):\n",
    "    size = len(array)-1\n",
    "    for i in range(len(array)):\n",
    "        for j in range(len(array)):\n",
    "            print(f'i {i}, j {j}')\n",
    "            if array[i][j] == \".\":\n",
    "                continue\n",
    "            if array[i][j] not in array[i][j+1:]:\n",
    "                size = len(array)-1\n",
    "                dummy = i\n",
    "                while size-i:\n",
    "                    print(array[i][j])\n",
    "                    print(array[dummy+1][j])\n",
    "                    if array[i][j] == array[dummy+1][j]:\n",
    "                        return False\n",
    "                    else:\n",
    "                        size -=1\n",
    "                        dummy +=1\n",
    "            else:\n",
    "                return False\n",
    "        \n",
    "        \n",
    "        \n",
    "    return True"
   ]
  },
  {
   "cell_type": "code",
   "execution_count": 64,
   "metadata": {},
   "outputs": [],
   "source": [
    "board = [[\".\",\".\",\".\",\".\",\"5\",\".\",\".\",\"1\",\".\"],\n",
    "         [\".\",\"4\",\".\",\"3\",\".\",\".\",\".\",\".\",\".\"],\n",
    "         [\".\",\".\",\".\",\".\",\".\",\"3\",\".\",\".\",\"1\"],\n",
    "         [\"8\",\".\",\".\",\".\",\".\",\".\",\".\",\"2\",\".\"],\n",
    "         [\".\",\".\",\"2\",\".\",\"7\",\".\",\".\",\".\",\".\"],\n",
    "         [\".\",\"1\",\"5\",\".\",\".\",\".\",\".\",\".\",\".\"],\n",
    "         [\".\",\".\",\".\",\".\",\".\",\"2\",\".\",\".\",\".\"],\n",
    "         [\".\",\"2\",\".\",\"9\",\".\",\".\",\".\",\".\",\".\"],\n",
    "         [\".\",\".\",\"4\",\".\",\".\",\".\",\".\",\".\",\".\"]]"
   ]
  },
  {
   "cell_type": "markdown",
   "metadata": {},
   "source": [
    "### Rotate\n",
    "\n",
    "You are given an n x n 2D matrix representing an image, rotate the image by 90 degrees (clockwise).\n",
    "\n",
    "You have to rotate the image in-place, which means you have to modify the input 2D matrix directly. DO NOT allocate another 2D matrix and do the rotation.\n",
    "\n",
    "```\n",
    "Input: matrix = [[1,2,3],[4,5,6],[7,8,9]]\n",
    "Output: [[7,4,1],[8,5,2],[9,6,3]]\n",
    "```"
   ]
  },
  {
   "cell_type": "code",
   "execution_count": 73,
   "metadata": {},
   "outputs": [],
   "source": [
    "def rotate(matrix):\n",
    "    n = len(matrix[0])\n",
    "    for i in range(n // 2 + n % 2):\n",
    "        for j in range(n // 2):\n",
    "            tmp = matrix[n - 1 - j][i]\n",
    "            matrix[n - 1 - j][i] = matrix[n - 1 - i][n - j - 1]\n",
    "            matrix[n - 1 - i][n - j - 1] = matrix[j][n - 1 -i]\n",
    "            matrix[j][n - 1 - i] = matrix[i][j]\n",
    "            matrix[i][j] = tmp\n",
    "            \n",
    "    return matrix"
   ]
  },
  {
   "cell_type": "code",
   "execution_count": 74,
   "metadata": {},
   "outputs": [
    {
     "data": {
      "text/plain": [
       "[[7, 4, 1], [8, 5, 2], [9, 6, 3]]"
      ]
     },
     "execution_count": 74,
     "metadata": {},
     "output_type": "execute_result"
    }
   ],
   "source": [
    "rotate(matrix = [[1,2,3],[4,5,6],[7,8,9]])"
   ]
  },
  {
   "cell_type": "code",
   "execution_count": null,
   "metadata": {},
   "outputs": [],
   "source": []
  }
 ],
 "metadata": {
  "kernelspec": {
   "display_name": "Python 3",
   "language": "python",
   "name": "python3"
  },
  "language_info": {
   "codemirror_mode": {
    "name": "ipython",
    "version": 3
   },
   "file_extension": ".py",
   "mimetype": "text/x-python",
   "name": "python",
   "nbconvert_exporter": "python",
   "pygments_lexer": "ipython3",
   "version": "3.7.6"
  }
 },
 "nbformat": 4,
 "nbformat_minor": 4
}

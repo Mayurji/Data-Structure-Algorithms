{
 "cells": [
  {
   "cell_type": "markdown",
   "metadata": {},
   "source": [
    "# Easy Problems - String Based Problems"
   ]
  },
  {
   "cell_type": "markdown",
   "metadata": {},
   "source": [
    "### Reverse String\n",
    "\n",
    "Write a function that reverses a string. The input string is given as an array of characters char[].\n",
    "\n",
    "Do not allocate extra space for another array, you must do this by modifying the input array in-place with O(1) extra memory.\n",
    "\n",
    "You may assume all the characters consist of printable ascii characters.\n",
    "\n",
    "```\n",
    "Input: [\"h\",\"e\",\"l\",\"l\",\"o\"]\n",
    "Output: [\"o\",\"l\",\"l\",\"e\",\"h\"]\n",
    "\n",
    "Input: [\"H\",\"a\",\"n\",\"n\",\"a\",\"h\"]\n",
    "Output: [\"h\",\"a\",\"n\",\"n\",\"a\",\"H\"]\n",
    "```"
   ]
  },
  {
   "cell_type": "code",
   "execution_count": 5,
   "metadata": {},
   "outputs": [],
   "source": [
    "def reverseString(array):\n",
    "    high = len(array)-1\n",
    "    low = 0\n",
    "    size = (len(array)) // 2\n",
    "    while size:\n",
    "        array[low], array[high] = array[high], array[low]\n",
    "        high -= 1\n",
    "        low += 1\n",
    "        size -= 1\n",
    "    return array"
   ]
  },
  {
   "cell_type": "code",
   "execution_count": 8,
   "metadata": {},
   "outputs": [
    {
     "data": {
      "text/plain": [
       "['h', 'a', 'n', 'n', 'a', 'H']"
      ]
     },
     "execution_count": 8,
     "metadata": {},
     "output_type": "execute_result"
    }
   ],
   "source": [
    "reverseString([\"H\",\"a\",\"n\",\"n\",\"a\",\"h\"])"
   ]
  },
  {
   "cell_type": "markdown",
   "metadata": {},
   "source": [
    "### Reverse Integer\n",
    "\n",
    "Given a signed 32-bit integer x, return x with its digits reversed. If reversing x causes the value to go outside the signed 32-bit integer range [-2^31, 2^31 - 1], then return 0.\n",
    "\n",
    "Assume the environment does not allow you to store 64-bit integers (signed or unsigned).\n",
    "\n",
    "```\n",
    "Input: x = 123\n",
    "Output: 321\n",
    "\n",
    "Input: x = 0\n",
    "Output: 0\n",
    "\n",
    "Input: x = 120\n",
    "Output: 21\n",
    "```"
   ]
  },
  {
   "cell_type": "code",
   "execution_count": 31,
   "metadata": {},
   "outputs": [],
   "source": [
    "def reverseInteger(num):\n",
    "    output = 0\n",
    "    sign = -1 if num < 0 else 1\n",
    "    num = num * -1 if sign < 0 else num * 1\n",
    "    while num != 0:\n",
    "        rem = num % 10\n",
    "        num = num // 10\n",
    "        output = output * 10 + rem\n",
    "\n",
    "        \n",
    "    return output*sign"
   ]
  },
  {
   "cell_type": "code",
   "execution_count": 32,
   "metadata": {},
   "outputs": [
    {
     "data": {
      "text/plain": [
       "1021"
      ]
     },
     "execution_count": 32,
     "metadata": {},
     "output_type": "execute_result"
    }
   ],
   "source": [
    "reverseInteger(1201)"
   ]
  },
  {
   "cell_type": "markdown",
   "metadata": {},
   "source": [
    "### First Unique Character in a String\n",
    "\n",
    "Given a string, find the first non-repeating character in it and return its index. If it doesn't exist, return -1.\n",
    "\n",
    "```\n",
    "s = \"leetcode\"\n",
    "return 0.\n",
    "\n",
    "s = \"loveleetcode\"\n",
    "return 2.\n",
    "```"
   ]
  },
  {
   "cell_type": "code",
   "execution_count": 32,
   "metadata": {},
   "outputs": [],
   "source": [
    "from collections import Counter"
   ]
  },
  {
   "cell_type": "code",
   "execution_count": 43,
   "metadata": {},
   "outputs": [],
   "source": [
    "def uniqueCharacter(s):\n",
    "    count = Counter(s)\n",
    "    for idx, ch in enumerate(s):\n",
    "        if count[ch] == 1:\n",
    "            return idx     \n",
    "    return -1"
   ]
  },
  {
   "cell_type": "code",
   "execution_count": 44,
   "metadata": {},
   "outputs": [
    {
     "data": {
      "text/plain": [
       "6"
      ]
     },
     "execution_count": 44,
     "metadata": {},
     "output_type": "execute_result"
    }
   ],
   "source": [
    "uniqueCharacter(\"aaaabbc\")"
   ]
  },
  {
   "cell_type": "markdown",
   "metadata": {},
   "source": [
    "### Valid Anagram\n",
    "\n",
    "Given two strings s and t , write a function to determine if t is an anagram of s.\n",
    "\n",
    "```\n",
    "Input: s = \"anagram\", t = \"nagaram\"\n",
    "Output: true\n",
    "\n",
    "Input: s = \"rat\", t = \"car\"\n",
    "Output: false\n",
    "```"
   ]
  },
  {
   "cell_type": "code",
   "execution_count": 74,
   "metadata": {},
   "outputs": [],
   "source": [
    "def validAnagram(s, t):\n",
    "    s_c = Counter(s)\n",
    "    t_c = Counter(t)\n",
    "    characters = set(s)\n",
    "    print(len(t_c.keys()))\n",
    "    for i in characters:\n",
    "        if len(s_c.keys()) != len(t_c.keys()):\n",
    "            return False\n",
    "        \n",
    "        elif (s_c[i] != t_c[i]):\n",
    "                return False\n",
    "    else:\n",
    "        return True\n",
    "\n",
    "        "
   ]
  },
  {
   "cell_type": "code",
   "execution_count": 75,
   "metadata": {},
   "outputs": [
    {
     "name": "stdout",
     "output_type": "stream",
     "text": [
      "2\n"
     ]
    },
    {
     "data": {
      "text/plain": [
       "False"
      ]
     },
     "execution_count": 75,
     "metadata": {},
     "output_type": "execute_result"
    }
   ],
   "source": [
    "validAnagram(s = \"a\", t = \"ab\")"
   ]
  },
  {
   "cell_type": "markdown",
   "metadata": {},
   "source": [
    "### Valid Palindrome\n",
    "\n",
    "Given a string, determine if it is a palindrome, considering only alphanumeric characters and ignoring cases.\n",
    "\n",
    "Note: For the purpose of this problem, we define empty string as valid palindrome.\n",
    "```\n",
    "Input: \"A man, a plan, a canal: Panama\"\n",
    "Output: true\n",
    "\n",
    "Input: \"race a car\"\n",
    "Output: false\n",
    "```"
   ]
  },
  {
   "cell_type": "code",
   "execution_count": 118,
   "metadata": {},
   "outputs": [],
   "source": [
    "def validPalindrome(s):\n",
    "    h = len(s)-1\n",
    "    l= 0\n",
    "    palindrome = bool\n",
    "    if s == \" \":\n",
    "        return True\n",
    "    while l <= h:\n",
    "        palindrome = False\n",
    "        while not s[l].isalnum() and l < h:\n",
    "            l += 1\n",
    "        while not s[h].isalnum() and h > l:\n",
    "            h -= 1\n",
    "\n",
    "        if s[l].lower() == s[h].lower():\n",
    "            #print(s[l].lower(), s[h].lower())\n",
    "            l += 1\n",
    "            h -= 1\n",
    "            palindrome=True\n",
    "        else:\n",
    "            return palindrome\n",
    "\n",
    "\n",
    "    return palindrome"
   ]
  },
  {
   "cell_type": "code",
   "execution_count": 119,
   "metadata": {},
   "outputs": [
    {
     "data": {
      "text/plain": [
       "False"
      ]
     },
     "execution_count": 119,
     "metadata": {},
     "output_type": "execute_result"
    }
   ],
   "source": [
    "s = \"race a car\"\n",
    "validPalindrome(s)"
   ]
  },
  {
   "cell_type": "markdown",
   "metadata": {},
   "source": [
    "### Implement strStr()\n",
    "\n",
    "Return the index of the first occurrence of needle in haystack, or -1 if needle is not part of haystack.\n",
    "\n",
    "Clarification:\n",
    "\n",
    "What should we return when needle is an empty string? This is a great question to ask during an interview.\n",
    "\n",
    "For the purpose of this problem, we will return 0 when needle is an empty string. This is consistent to C's strstr() and Java's indexOf().\n",
    "\n",
    "```\n",
    "Input: haystack = \"hello\", needle = \"ll\"\n",
    "Output: 2\n",
    "\n",
    "Input: haystack = \"aaaaa\", needle = \"bba\"\n",
    "Output: -1\n",
    "\n",
    "Input: haystack = \"\", needle = \"\"\n",
    "Output: 0\n",
    "```"
   ]
  },
  {
   "cell_type": "code",
   "execution_count": 12,
   "metadata": {},
   "outputs": [],
   "source": [
    "def strStr(haystack, needle):\n",
    "    \"\"\"\n",
    "    :type haystack: str\n",
    "    :type needle: str\n",
    "    :rtype: int\n",
    "\n",
    "    \"\"\"\n",
    "    nr = len(needle)\n",
    "    hr = len(haystack)\n",
    "    i = 0\n",
    "    if nr == 0:\n",
    "        return 0\n",
    "\n",
    "    while i < hr-nr+1:\n",
    "        if haystack[i:nr+i] == needle:\n",
    "            return i\n",
    "        i = i + 1\n",
    "    return -1"
   ]
  },
  {
   "cell_type": "code",
   "execution_count": 13,
   "metadata": {},
   "outputs": [
    {
     "data": {
      "text/plain": [
       "-1"
      ]
     },
     "execution_count": 13,
     "metadata": {},
     "output_type": "execute_result"
    }
   ],
   "source": [
    "strStr('hello', 'bba')"
   ]
  },
  {
   "cell_type": "markdown",
   "metadata": {},
   "source": [
    "The count-and-say sequence is a sequence of digit strings defined by the recursive formula:\n",
    "\n",
    "    countAndSay(1) = \"1\"\n",
    "    countAndSay(n) is the way you would \"say\" the digit string from countAndSay(n-1), which is then converted into a different digit string.\n",
    "\n",
    "To determine how you \"say\" a digit string, split it into the minimal number of groups so that each group is a contiguous section all of the same character. Then for each group, say the number of characters, then say the character. To convert the saying into a digit string, replace the counts with a number and concatenate every saying.\n",
    "\n",
    "\n",
    "Given a positive integer n, return the nth term of the count-and-say sequence.\n",
    "```\n",
    "Input: n = 4\n",
    "Output: \"1211\"\n",
    "Explanation:\n",
    "countAndSay(1) = \"1\"\n",
    "countAndSay(2) = say \"1\" = one 1 = \"11\"\n",
    "countAndSay(3) = say \"11\" = two 1's = \"21\"\n",
    "countAndSay(4) = say \"21\" = one 2 + one 1 = \"12\" + \"11\" = \"1211\"\n",
    "```"
   ]
  },
  {
   "cell_type": "code",
   "execution_count": 29,
   "metadata": {},
   "outputs": [],
   "source": [
    "def countAndSay(n):\n",
    "    if n == 1:\n",
    "        return \"1\"\n",
    "\n",
    "    previous = countAndSay(n-1)\n",
    "    print(previous)\n",
    "    count = 1\n",
    "    digit = str(previous[0]) # because countAndSay will never return the empty string\n",
    "    print('digit' , digit)\n",
    "    returnString = ''\n",
    "\n",
    "    for i in range(1, len(previous)):\n",
    "        print('i', i)\n",
    "        if previous[i] == previous[i-1]:\n",
    "            count += 1\n",
    "        else:\n",
    "            returnString += str(count) + digit\n",
    "            count = 1\n",
    "            digit = str(previous[i])\n",
    "\n",
    "    return returnString + str(count) + digit"
   ]
  },
  {
   "cell_type": "code",
   "execution_count": 30,
   "metadata": {},
   "outputs": [
    {
     "name": "stdout",
     "output_type": "stream",
     "text": [
      "1\n",
      "digit 1\n",
      "11\n",
      "digit 1\n",
      "i 1\n",
      "21\n",
      "digit 2\n",
      "i 1\n"
     ]
    },
    {
     "data": {
      "text/plain": [
       "'1211'"
      ]
     },
     "execution_count": 30,
     "metadata": {},
     "output_type": "execute_result"
    }
   ],
   "source": [
    "countAndSay(4)"
   ]
  },
  {
   "cell_type": "markdown",
   "metadata": {},
   "source": [
    "### Longest Common Prefix\n",
    "\n",
    "Write a function to find the longest common prefix string amongst an array of strings.\n",
    "\n",
    "If there is no common prefix, return an empty string \"\".\n",
    "\n",
    "```\n",
    "Input: strs = [\"flower\",\"flow\",\"flight\"]\n",
    "Output: \"fl\"\n",
    "```"
   ]
  },
  {
   "cell_type": "code",
   "execution_count": 88,
   "metadata": {},
   "outputs": [],
   "source": [
    "def lcp(strs):\n",
    "    prefix = \"\"\n",
    "    if len(strs) >=2:\n",
    "        for i, c in enumerate(strs[0]):\n",
    "            print(i)\n",
    "            j=1\n",
    "            while j <= len(strs)-1:\n",
    "                \n",
    "                if i < len(strs[j]) and c == strs[j][i]:\n",
    "                    j += 1\n",
    "                else:\n",
    "                    return prefix\n",
    "            prefix += \"\".join(c)\n",
    "        return prefix\n",
    "            \n",
    "    elif len(strs) == 1:\n",
    "        return strs[0]\n",
    "    else:\n",
    "        return prefix"
   ]
  },
  {
   "cell_type": "code",
   "execution_count": 89,
   "metadata": {},
   "outputs": [
    {
     "data": {
      "text/plain": [
       "''"
      ]
     },
     "execution_count": 89,
     "metadata": {},
     "output_type": "execute_result"
    }
   ],
   "source": [
    "lcp(['', ''])"
   ]
  },
  {
   "cell_type": "code",
   "execution_count": 90,
   "metadata": {},
   "outputs": [],
   "source": [
    "strs = [\"flower\",\"flow\",\"flight\"]\n",
    "strs.sort()"
   ]
  },
  {
   "cell_type": "code",
   "execution_count": 91,
   "metadata": {},
   "outputs": [
    {
     "data": {
      "text/plain": [
       "['flight', 'flow', 'flower']"
      ]
     },
     "execution_count": 91,
     "metadata": {},
     "output_type": "execute_result"
    }
   ],
   "source": [
    "strs"
   ]
  },
  {
   "cell_type": "code",
   "execution_count": null,
   "metadata": {},
   "outputs": [],
   "source": []
  }
 ],
 "metadata": {
  "kernelspec": {
   "display_name": "Python 3",
   "language": "python",
   "name": "python3"
  },
  "language_info": {
   "codemirror_mode": {
    "name": "ipython",
    "version": 3
   },
   "file_extension": ".py",
   "mimetype": "text/x-python",
   "name": "python",
   "nbconvert_exporter": "python",
   "pygments_lexer": "ipython3",
   "version": "3.7.6"
  }
 },
 "nbformat": 4,
 "nbformat_minor": 4
}
